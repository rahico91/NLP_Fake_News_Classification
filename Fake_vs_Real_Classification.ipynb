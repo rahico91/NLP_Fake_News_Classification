{
 "cells": [
  {
   "cell_type": "markdown",
   "metadata": {},
   "source": [
    "# Fake News Classification\n",
    "\n",
    "A dataset is provided containing different news articles.\n",
    "\n",
    "We want to build a  model that can classify if a given article is considered fake or not. We will use a subset of the data for training and the remaining for testing our model.\n",
    "\n",
    "## Outline\n",
    "\n",
    "We separate the project in 3 steps:\n",
    "\n",
    "**Data Loading and Processing:** Load the data and analyze it to obtain an accurate picture of it, its features, its values (and whether they are incomplete or wrong), its data types among others. We also do the required processing.\n",
    "\n",
    "**Feature Engineering / Modeling:** Once we have the data, we create some features and then the modeling stage begins, we set multiple baselines making use of different models, we will hopefully produce a model that fits our expectations of performance. Once we have that model, a process of tuning it to the training data would be performed.\n",
    "\n",
    "**Results and Conclusions:** Finally, with our tuned model, we  predict against the test set, and finally, outline our conclusions."
   ]
  },
  {
   "cell_type": "code",
   "execution_count": 1,
   "metadata": {},
   "outputs": [
    {
     "name": "stderr",
     "output_type": "stream",
     "text": [
      "[nltk_data] Downloading package stopwords to\n",
      "[nltk_data]     /Users/alejandro/nltk_data...\n",
      "[nltk_data]   Package stopwords is already up-to-date!\n"
     ]
    }
   ],
   "source": [
    "import re\n",
    "import spacy\n",
    "import nltk as nl\n",
    "import pandas as pd\n",
    "import matplotlib.pyplot as plt\n",
    "from scipy.sparse import hstack\n",
    "from nltk.corpus import stopwords\n",
    "from sklearn.pipeline import Pipeline\n",
    "from sklearn.naive_bayes import MultinomialNB\n",
    "from sklearn.linear_model import SGDClassifier\n",
    "from nltk.stem.snowball import SnowballStemmer\n",
    "from sklearn.model_selection import GridSearchCV\n",
    "from sklearn.ensemble import RandomForestClassifier\n",
    "from sklearn.linear_model import LogisticRegression\n",
    "from scikitplot.metrics import plot_confusion_matrix\n",
    "from nltk.stem import PorterStemmer, WordNetLemmatizer\n",
    "from sklearn.feature_selection import SelectKBest, chi2\n",
    "from sklearn.metrics import accuracy_score as metric_scorer\n",
    "from sklearn.linear_model import PassiveAggressiveClassifier\n",
    "from sklearn.metrics import classification_report, confusion_matrix\n",
    "from sklearn.model_selection import train_test_split, RandomizedSearchCV, cross_val_score\n",
    "from sklearn.feature_extraction.text import TfidfVectorizer, CountVectorizer, TfidfTransformer\n",
    "nl.download('stopwords')\n",
    "%matplotlib inline"
   ]
  },
  {
   "cell_type": "markdown",
   "metadata": {},
   "source": [
    "### Setting Key Values\n",
    "\n",
    "The following values are used throught the code, this cell gives a central source where they can be managed."
   ]
  },
  {
   "cell_type": "code",
   "execution_count": 2,
   "metadata": {},
   "outputs": [],
   "source": [
    "SEED = 1"
   ]
  },
  {
   "cell_type": "markdown",
   "metadata": {},
   "source": [
    "## Data Loading and Processing\n",
    "\n",
    "Here we load the necessary data for training and testing, review its types and print its first rows."
   ]
  },
  {
   "cell_type": "code",
   "execution_count": 3,
   "metadata": {},
   "outputs": [],
   "source": [
    "train = pd.read_csv(\"fake_or_real_news_training.csv\")\n",
    "test = pd.read_csv(\"fake_or_real_news_test.csv\")"
   ]
  },
  {
   "cell_type": "markdown",
   "metadata": {},
   "source": [
    "### Data Types"
   ]
  },
  {
   "cell_type": "code",
   "execution_count": 4,
   "metadata": {},
   "outputs": [
    {
     "data": {
      "text/plain": [
       "ID        int64\n",
       "title    object\n",
       "text     object\n",
       "label    object\n",
       "X1       object\n",
       "X2       object\n",
       "dtype: object"
      ]
     },
     "execution_count": 4,
     "metadata": {},
     "output_type": "execute_result"
    }
   ],
   "source": [
    "train.dtypes"
   ]
  },
  {
   "cell_type": "markdown",
   "metadata": {},
   "source": [
    "### First Rows of the Data"
   ]
  },
  {
   "cell_type": "code",
   "execution_count": 5,
   "metadata": {},
   "outputs": [
    {
     "data": {
      "text/html": [
       "<div>\n",
       "<style scoped>\n",
       "    .dataframe tbody tr th:only-of-type {\n",
       "        vertical-align: middle;\n",
       "    }\n",
       "\n",
       "    .dataframe tbody tr th {\n",
       "        vertical-align: top;\n",
       "    }\n",
       "\n",
       "    .dataframe thead th {\n",
       "        text-align: right;\n",
       "    }\n",
       "</style>\n",
       "<table border=\"1\" class=\"dataframe\">\n",
       "  <thead>\n",
       "    <tr style=\"text-align: right;\">\n",
       "      <th></th>\n",
       "      <th>ID</th>\n",
       "      <th>title</th>\n",
       "      <th>text</th>\n",
       "      <th>label</th>\n",
       "      <th>X1</th>\n",
       "      <th>X2</th>\n",
       "    </tr>\n",
       "  </thead>\n",
       "  <tbody>\n",
       "    <tr>\n",
       "      <th>0</th>\n",
       "      <td>8476</td>\n",
       "      <td>You Can Smell Hillary’s Fear</td>\n",
       "      <td>Daniel Greenfield, a Shillman Journalism Fello...</td>\n",
       "      <td>FAKE</td>\n",
       "      <td>NaN</td>\n",
       "      <td>NaN</td>\n",
       "    </tr>\n",
       "    <tr>\n",
       "      <th>1</th>\n",
       "      <td>10294</td>\n",
       "      <td>Watch The Exact Moment Paul Ryan Committed Pol...</td>\n",
       "      <td>Google Pinterest Digg Linkedin Reddit Stumbleu...</td>\n",
       "      <td>FAKE</td>\n",
       "      <td>NaN</td>\n",
       "      <td>NaN</td>\n",
       "    </tr>\n",
       "    <tr>\n",
       "      <th>2</th>\n",
       "      <td>3608</td>\n",
       "      <td>Kerry to go to Paris in gesture of sympathy</td>\n",
       "      <td>U.S. Secretary of State John F. Kerry said Mon...</td>\n",
       "      <td>REAL</td>\n",
       "      <td>NaN</td>\n",
       "      <td>NaN</td>\n",
       "    </tr>\n",
       "    <tr>\n",
       "      <th>3</th>\n",
       "      <td>10142</td>\n",
       "      <td>Bernie supporters on Twitter erupt in anger ag...</td>\n",
       "      <td>— Kaydee King (@KaydeeKing) November 9, 2016 T...</td>\n",
       "      <td>FAKE</td>\n",
       "      <td>NaN</td>\n",
       "      <td>NaN</td>\n",
       "    </tr>\n",
       "    <tr>\n",
       "      <th>4</th>\n",
       "      <td>875</td>\n",
       "      <td>The Battle of New York: Why This Primary Matters</td>\n",
       "      <td>It's primary day in New York and front-runners...</td>\n",
       "      <td>REAL</td>\n",
       "      <td>NaN</td>\n",
       "      <td>NaN</td>\n",
       "    </tr>\n",
       "  </tbody>\n",
       "</table>\n",
       "</div>"
      ],
      "text/plain": [
       "      ID                                              title  \\\n",
       "0   8476                       You Can Smell Hillary’s Fear   \n",
       "1  10294  Watch The Exact Moment Paul Ryan Committed Pol...   \n",
       "2   3608        Kerry to go to Paris in gesture of sympathy   \n",
       "3  10142  Bernie supporters on Twitter erupt in anger ag...   \n",
       "4    875   The Battle of New York: Why This Primary Matters   \n",
       "\n",
       "                                                text label   X1   X2  \n",
       "0  Daniel Greenfield, a Shillman Journalism Fello...  FAKE  NaN  NaN  \n",
       "1  Google Pinterest Digg Linkedin Reddit Stumbleu...  FAKE  NaN  NaN  \n",
       "2  U.S. Secretary of State John F. Kerry said Mon...  REAL  NaN  NaN  \n",
       "3  — Kaydee King (@KaydeeKing) November 9, 2016 T...  FAKE  NaN  NaN  \n",
       "4  It's primary day in New York and front-runners...  REAL  NaN  NaN  "
      ]
     },
     "execution_count": 5,
     "metadata": {},
     "output_type": "execute_result"
    }
   ],
   "source": [
    "train.head()"
   ]
  },
  {
   "cell_type": "markdown",
   "metadata": {},
   "source": [
    "### Sample News"
   ]
  },
  {
   "cell_type": "code",
   "execution_count": 6,
   "metadata": {},
   "outputs": [
    {
     "data": {
      "text/plain": [
       "'U.S. Secretary of State John F. Kerry said Monday that he will stop in Paris later this week, amid criticism that no top American officials attended Sunday’s unity march against terrorism.\\n\\nKerry said he expects to arrive in Paris Thursday evening, as he heads home after a week abroad. He said he will fly to France at the conclusion of a series of meetings scheduled for Thursday in Sofia, Bulgaria. He plans to meet the next day with Foreign Minister Laurent Fabius and President Francois Hollande, then return to Washington.\\n\\nThe visit by Kerry, who has family and childhood ties to the country and speaks fluent French, could address some of the criticism that the United States snubbed France in its darkest hour in many years.\\n\\nThe French press on Monday was filled with questions about why neither President Obama nor Kerry attended Sunday’s march, as about 40 leaders of other nations did. Obama was said to have stayed away because his own security needs can be taxing on a country, and Kerry had prior commitments.\\n\\nAmong roughly 40 leaders who did attend was Israeli Prime Minister Benjamin Netanyahu, no stranger to intense security, who marched beside Hollande through the city streets. The highest ranking U.S. officials attending the march were Jane Hartley, the ambassador to France, and Victoria Nuland, the assistant secretary of state for European affairs. Attorney General Eric H. Holder Jr. was in Paris for meetings with law enforcement officials but did not participate in the march.\\n\\nKerry spent Sunday at a business summit hosted by India’s prime minister, Narendra Modi. The United States is eager for India to relax stringent laws that function as barriers to foreign investment and hopes Modi’s government will act to open the huge Indian market for more American businesses.\\n\\nIn a news conference, Kerry brushed aside criticism that the United States had not sent a more senior official to Paris as “quibbling a little bit.” He noted that many staffers of the American Embassy in Paris attended the march, including the ambassador. He said he had wanted to be present at the march himself but could not because of his prior commitments in India.\\n\\n“But that is why I am going there on the way home, to make it crystal clear how passionately we feel about the events that have taken place there,” he said.\\n\\n“And I don’t think the people of France have any doubts about America’s understanding of what happened, of our personal sense of loss and our deep commitment to the people of France in this moment of trauma.”'"
      ]
     },
     "execution_count": 6,
     "metadata": {},
     "output_type": "execute_result"
    }
   ],
   "source": [
    "train.iloc[2,2]"
   ]
  },
  {
   "cell_type": "markdown",
   "metadata": {},
   "source": [
    "### Data Cleaning\n",
    "Since some rows have information spread accross different columns, we perform the required transformations in order to obtain the final text in a single column.\n",
    "\n",
    "#### X1 Column"
   ]
  },
  {
   "cell_type": "code",
   "execution_count": 7,
   "metadata": {},
   "outputs": [
    {
     "data": {
      "text/html": [
       "<div>\n",
       "<style scoped>\n",
       "    .dataframe tbody tr th:only-of-type {\n",
       "        vertical-align: middle;\n",
       "    }\n",
       "\n",
       "    .dataframe tbody tr th {\n",
       "        vertical-align: top;\n",
       "    }\n",
       "\n",
       "    .dataframe thead th {\n",
       "        text-align: right;\n",
       "    }\n",
       "</style>\n",
       "<table border=\"1\" class=\"dataframe\">\n",
       "  <thead>\n",
       "    <tr style=\"text-align: right;\">\n",
       "      <th></th>\n",
       "      <th>concat</th>\n",
       "      <th>label</th>\n",
       "    </tr>\n",
       "  </thead>\n",
       "  <tbody>\n",
       "    <tr>\n",
       "      <th>192</th>\n",
       "      <td>Election Day: No Legal Pot In Ohio  Democrats ...</td>\n",
       "      <td>REAL</td>\n",
       "    </tr>\n",
       "    <tr>\n",
       "      <th>308</th>\n",
       "      <td>Who rode it best? Jesse Jackson mounts up to f...</td>\n",
       "      <td>FAKE</td>\n",
       "    </tr>\n",
       "    <tr>\n",
       "      <th>382</th>\n",
       "      <td>Black Hawk crashes off Florida  human remains ...</td>\n",
       "      <td>REAL</td>\n",
       "    </tr>\n",
       "    <tr>\n",
       "      <th>660</th>\n",
       "      <td>Afghanistan: 19 die in air attacks on hospital...</td>\n",
       "      <td>REAL</td>\n",
       "    </tr>\n",
       "    <tr>\n",
       "      <th>889</th>\n",
       "      <td>Al Qaeda rep says group directed Paris magazin...</td>\n",
       "      <td>REAL</td>\n",
       "    </tr>\n",
       "  </tbody>\n",
       "</table>\n",
       "</div>"
      ],
      "text/plain": [
       "                                                concat label\n",
       "192  Election Day: No Legal Pot In Ohio  Democrats ...  REAL\n",
       "308  Who rode it best? Jesse Jackson mounts up to f...  FAKE\n",
       "382  Black Hawk crashes off Florida  human remains ...  REAL\n",
       "660  Afghanistan: 19 die in air attacks on hospital...  REAL\n",
       "889  Al Qaeda rep says group directed Paris magazin...  REAL"
      ]
     },
     "execution_count": 7,
     "metadata": {},
     "output_type": "execute_result"
    }
   ],
   "source": [
    "shifted_X1 = train.loc[(train['X1'] == 'REAL') | (train['X1'] == 'FAKE')]\n",
    "fixed_X1 = pd.DataFrame(shifted_X1['title'].map(str) + ' ' + shifted_X1['text'].map(str) + ' ' + shifted_X1['label'].map(str), columns=[\"concat\"])\n",
    "fixed_X1['label'] = shifted_X1[\"X1\"]\n",
    "fixed_X1.head()"
   ]
  },
  {
   "cell_type": "markdown",
   "metadata": {},
   "source": [
    "#### X2 Column"
   ]
  },
  {
   "cell_type": "code",
   "execution_count": 8,
   "metadata": {},
   "outputs": [
    {
     "data": {
      "text/html": [
       "<div>\n",
       "<style scoped>\n",
       "    .dataframe tbody tr th:only-of-type {\n",
       "        vertical-align: middle;\n",
       "    }\n",
       "\n",
       "    .dataframe tbody tr th {\n",
       "        vertical-align: top;\n",
       "    }\n",
       "\n",
       "    .dataframe thead th {\n",
       "        text-align: right;\n",
       "    }\n",
       "</style>\n",
       "<table border=\"1\" class=\"dataframe\">\n",
       "  <thead>\n",
       "    <tr style=\"text-align: right;\">\n",
       "      <th></th>\n",
       "      <th>concat</th>\n",
       "      <th>label</th>\n",
       "    </tr>\n",
       "  </thead>\n",
       "  <tbody>\n",
       "    <tr>\n",
       "      <th>2184</th>\n",
       "      <td>Planned Parenthood’s lobbying effort  pay rais...</td>\n",
       "      <td>REAL</td>\n",
       "    </tr>\n",
       "    <tr>\n",
       "      <th>3537</th>\n",
       "      <td>Chart Of The Day: Since 2009—–Recovery For The...</td>\n",
       "      <td>FAKE</td>\n",
       "    </tr>\n",
       "  </tbody>\n",
       "</table>\n",
       "</div>"
      ],
      "text/plain": [
       "                                                 concat label\n",
       "2184  Planned Parenthood’s lobbying effort  pay rais...  REAL\n",
       "3537  Chart Of The Day: Since 2009—–Recovery For The...  FAKE"
      ]
     },
     "execution_count": 8,
     "metadata": {},
     "output_type": "execute_result"
    }
   ],
   "source": [
    "shifted_X2 = train.loc[(train['X2'] == 'REAL') | (train['X2'] == 'FAKE')]\n",
    "fixed_X2 = pd.DataFrame(shifted_X2['title'] + ' ' + shifted_X2['text'].map(str) + ' ' + shifted_X2['label'].map(str) + ' ' + shifted_X2['X1'].map(str), columns = ['concat'])\n",
    "fixed_X2['label'] = shifted_X2[\"X2\"]\n",
    "fixed_X2.head()"
   ]
  },
  {
   "cell_type": "markdown",
   "metadata": {},
   "source": [
    "### Label Column"
   ]
  },
  {
   "cell_type": "code",
   "execution_count": 9,
   "metadata": {},
   "outputs": [
    {
     "data": {
      "text/html": [
       "<div>\n",
       "<style scoped>\n",
       "    .dataframe tbody tr th:only-of-type {\n",
       "        vertical-align: middle;\n",
       "    }\n",
       "\n",
       "    .dataframe tbody tr th {\n",
       "        vertical-align: top;\n",
       "    }\n",
       "\n",
       "    .dataframe thead th {\n",
       "        text-align: right;\n",
       "    }\n",
       "</style>\n",
       "<table border=\"1\" class=\"dataframe\">\n",
       "  <thead>\n",
       "    <tr style=\"text-align: right;\">\n",
       "      <th></th>\n",
       "      <th>concat</th>\n",
       "      <th>label</th>\n",
       "    </tr>\n",
       "  </thead>\n",
       "  <tbody>\n",
       "    <tr>\n",
       "      <th>0</th>\n",
       "      <td>You Can Smell Hillary’s Fear Daniel Greenfield...</td>\n",
       "      <td>FAKE</td>\n",
       "    </tr>\n",
       "    <tr>\n",
       "      <th>1</th>\n",
       "      <td>Watch The Exact Moment Paul Ryan Committed Pol...</td>\n",
       "      <td>FAKE</td>\n",
       "    </tr>\n",
       "    <tr>\n",
       "      <th>2</th>\n",
       "      <td>Kerry to go to Paris in gesture of sympathy U....</td>\n",
       "      <td>REAL</td>\n",
       "    </tr>\n",
       "    <tr>\n",
       "      <th>3</th>\n",
       "      <td>Bernie supporters on Twitter erupt in anger ag...</td>\n",
       "      <td>FAKE</td>\n",
       "    </tr>\n",
       "    <tr>\n",
       "      <th>4</th>\n",
       "      <td>The Battle of New York: Why This Primary Matte...</td>\n",
       "      <td>REAL</td>\n",
       "    </tr>\n",
       "  </tbody>\n",
       "</table>\n",
       "</div>"
      ],
      "text/plain": [
       "                                              concat label\n",
       "0  You Can Smell Hillary’s Fear Daniel Greenfield...  FAKE\n",
       "1  Watch The Exact Moment Paul Ryan Committed Pol...  FAKE\n",
       "2  Kerry to go to Paris in gesture of sympathy U....  REAL\n",
       "3  Bernie supporters on Twitter erupt in anger ag...  FAKE\n",
       "4  The Battle of New York: Why This Primary Matte...  REAL"
      ]
     },
     "execution_count": 9,
     "metadata": {},
     "output_type": "execute_result"
    }
   ],
   "source": [
    "labeled = train.loc[(train['label'] == 'REAL') | (train['label'] == 'FAKE')]\n",
    "fixed_labeled = pd.DataFrame(labeled['title'].map(str) + ' ' + labeled['text'].map(str), columns = ['concat'])\n",
    "fixed_labeled['label'] = labeled[\"label\"]\n",
    "fixed_labeled.head()"
   ]
  },
  {
   "cell_type": "markdown",
   "metadata": {},
   "source": [
    "### Concatenated Train Set"
   ]
  },
  {
   "cell_type": "code",
   "execution_count": 10,
   "metadata": {},
   "outputs": [
    {
     "data": {
      "text/html": [
       "<div>\n",
       "<style scoped>\n",
       "    .dataframe tbody tr th:only-of-type {\n",
       "        vertical-align: middle;\n",
       "    }\n",
       "\n",
       "    .dataframe tbody tr th {\n",
       "        vertical-align: top;\n",
       "    }\n",
       "\n",
       "    .dataframe thead th {\n",
       "        text-align: right;\n",
       "    }\n",
       "</style>\n",
       "<table border=\"1\" class=\"dataframe\">\n",
       "  <thead>\n",
       "    <tr style=\"text-align: right;\">\n",
       "      <th></th>\n",
       "      <th>concat</th>\n",
       "      <th>label</th>\n",
       "      <th>title</th>\n",
       "    </tr>\n",
       "  </thead>\n",
       "  <tbody>\n",
       "    <tr>\n",
       "      <th>192</th>\n",
       "      <td>Election Day: No Legal Pot In Ohio  Democrats ...</td>\n",
       "      <td>REAL</td>\n",
       "      <td>Election Day: No Legal Pot In Ohio</td>\n",
       "    </tr>\n",
       "    <tr>\n",
       "      <th>308</th>\n",
       "      <td>Who rode it best? Jesse Jackson mounts up to f...</td>\n",
       "      <td>FAKE</td>\n",
       "      <td>Who rode it best? Jesse Jackson mounts up to f...</td>\n",
       "    </tr>\n",
       "    <tr>\n",
       "      <th>382</th>\n",
       "      <td>Black Hawk crashes off Florida  human remains ...</td>\n",
       "      <td>REAL</td>\n",
       "      <td>Black Hawk crashes off Florida</td>\n",
       "    </tr>\n",
       "    <tr>\n",
       "      <th>660</th>\n",
       "      <td>Afghanistan: 19 die in air attacks on hospital...</td>\n",
       "      <td>REAL</td>\n",
       "      <td>Afghanistan: 19 die in air attacks on hospital</td>\n",
       "    </tr>\n",
       "    <tr>\n",
       "      <th>889</th>\n",
       "      <td>Al Qaeda rep says group directed Paris magazin...</td>\n",
       "      <td>REAL</td>\n",
       "      <td>Al Qaeda rep says group directed Paris magazin...</td>\n",
       "    </tr>\n",
       "  </tbody>\n",
       "</table>\n",
       "</div>"
      ],
      "text/plain": [
       "                                                concat label  \\\n",
       "192  Election Day: No Legal Pot In Ohio  Democrats ...  REAL   \n",
       "308  Who rode it best? Jesse Jackson mounts up to f...  FAKE   \n",
       "382  Black Hawk crashes off Florida  human remains ...  REAL   \n",
       "660  Afghanistan: 19 die in air attacks on hospital...  REAL   \n",
       "889  Al Qaeda rep says group directed Paris magazin...  REAL   \n",
       "\n",
       "                                                 title  \n",
       "192                 Election Day: No Legal Pot In Ohio  \n",
       "308  Who rode it best? Jesse Jackson mounts up to f...  \n",
       "382                     Black Hawk crashes off Florida  \n",
       "660     Afghanistan: 19 die in air attacks on hospital  \n",
       "889  Al Qaeda rep says group directed Paris magazin...  "
      ]
     },
     "execution_count": 10,
     "metadata": {},
     "output_type": "execute_result"
    }
   ],
   "source": [
    "train_cc = pd.concat([fixed_X1, fixed_X2, fixed_labeled], axis=0)\n",
    "train_cc[\"concat\"] = train_cc[\"concat\"]\n",
    "train_cc[\"title\"] = train[\"title\"]\n",
    "train_cc.head()"
   ]
  },
  {
   "cell_type": "markdown",
   "metadata": {},
   "source": [
    "### Concatenated Test Set"
   ]
  },
  {
   "cell_type": "code",
   "execution_count": 11,
   "metadata": {},
   "outputs": [
    {
     "data": {
      "text/html": [
       "<div>\n",
       "<style scoped>\n",
       "    .dataframe tbody tr th:only-of-type {\n",
       "        vertical-align: middle;\n",
       "    }\n",
       "\n",
       "    .dataframe tbody tr th {\n",
       "        vertical-align: top;\n",
       "    }\n",
       "\n",
       "    .dataframe thead th {\n",
       "        text-align: right;\n",
       "    }\n",
       "</style>\n",
       "<table border=\"1\" class=\"dataframe\">\n",
       "  <thead>\n",
       "    <tr style=\"text-align: right;\">\n",
       "      <th></th>\n",
       "      <th>concat</th>\n",
       "      <th>title</th>\n",
       "      <th>ID</th>\n",
       "    </tr>\n",
       "  </thead>\n",
       "  <tbody>\n",
       "    <tr>\n",
       "      <th>0</th>\n",
       "      <td>September New Homes Sales Rise——-Back To 1992 ...</td>\n",
       "      <td>September New Homes Sales Rise——-Back To 1992 ...</td>\n",
       "      <td>10498</td>\n",
       "    </tr>\n",
       "    <tr>\n",
       "      <th>1</th>\n",
       "      <td>Why The Obamacare Doomsday Cult Can't Admit It...</td>\n",
       "      <td>Why The Obamacare Doomsday Cult Can't Admit It...</td>\n",
       "      <td>2439</td>\n",
       "    </tr>\n",
       "    <tr>\n",
       "      <th>2</th>\n",
       "      <td>Sanders, Cruz resist pressure after NY losses,...</td>\n",
       "      <td>Sanders, Cruz resist pressure after NY losses,...</td>\n",
       "      <td>864</td>\n",
       "    </tr>\n",
       "    <tr>\n",
       "      <th>3</th>\n",
       "      <td>Surviving escaped prisoner likely fatigued and...</td>\n",
       "      <td>Surviving escaped prisoner likely fatigued and...</td>\n",
       "      <td>4128</td>\n",
       "    </tr>\n",
       "    <tr>\n",
       "      <th>4</th>\n",
       "      <td>Clinton and Sanders neck and neck in Californi...</td>\n",
       "      <td>Clinton and Sanders neck and neck in Californi...</td>\n",
       "      <td>662</td>\n",
       "    </tr>\n",
       "  </tbody>\n",
       "</table>\n",
       "</div>"
      ],
      "text/plain": [
       "                                              concat  \\\n",
       "0  September New Homes Sales Rise——-Back To 1992 ...   \n",
       "1  Why The Obamacare Doomsday Cult Can't Admit It...   \n",
       "2  Sanders, Cruz resist pressure after NY losses,...   \n",
       "3  Surviving escaped prisoner likely fatigued and...   \n",
       "4  Clinton and Sanders neck and neck in Californi...   \n",
       "\n",
       "                                               title     ID  \n",
       "0  September New Homes Sales Rise——-Back To 1992 ...  10498  \n",
       "1  Why The Obamacare Doomsday Cult Can't Admit It...   2439  \n",
       "2  Sanders, Cruz resist pressure after NY losses,...    864  \n",
       "3  Surviving escaped prisoner likely fatigued and...   4128  \n",
       "4  Clinton and Sanders neck and neck in Californi...    662  "
      ]
     },
     "execution_count": 11,
     "metadata": {},
     "output_type": "execute_result"
    }
   ],
   "source": [
    "test_cc = pd.DataFrame(test['title'].map(str) + ' ' + test['text'].map(str), columns = ['concat'])\n",
    "test_cc[\"concat\"] = test_cc[\"concat\"]\n",
    "test_cc[\"title\"] = test[\"title\"]\n",
    "test_cc['ID'] = test[\"ID\"]\n",
    "test_cc.head()"
   ]
  },
  {
   "cell_type": "markdown",
   "metadata": {},
   "source": [
    "### Check target variable balance\n",
    "We review the distribution of values in the target variable."
   ]
  },
  {
   "cell_type": "code",
   "execution_count": 12,
   "metadata": {},
   "outputs": [
    {
     "data": {
      "text/plain": [
       "<matplotlib.axes._subplots.AxesSubplot at 0x1a1fbf1518>"
      ]
     },
     "execution_count": 12,
     "metadata": {},
     "output_type": "execute_result"
    },
    {
     "data": {
      "image/png": "[encoded data removed]",
      "text/plain": [
       "<Figure size 576x504 with 1 Axes>"
      ]
     },
     "metadata": {
      "needs_background": "light"
     },
     "output_type": "display_data"
    }
   ],
   "source": [
    "plt.figure(figsize=(8, 7))\n",
    "target_count = (train_cc[\"label\"].value_counts() / len(train_cc)) * 100\n",
    "target_count.plot(kind=\"bar\", title=\"Target Distribution (%)\")"
   ]
  },
  {
   "cell_type": "markdown",
   "metadata": {},
   "source": [
    "The distribution is perfect, therefore no resampling is needed."
   ]
  },
  {
   "cell_type": "markdown",
   "metadata": {},
   "source": [
    "## Tokenizing data\n",
    "We convert the different articles to a matrix of token counts"
   ]
  },
  {
   "cell_type": "code",
   "execution_count": 13,
   "metadata": {},
   "outputs": [
    {
     "name": "stdout",
     "output_type": "stream",
     "text": [
      "(3999, 55777)\n"
     ]
    }
   ],
   "source": [
    "count_vect = CountVectorizer()\n",
    "base_train = count_vect.fit_transform(train_cc.concat)\n",
    "print(base_train.shape)"
   ]
  },
  {
   "cell_type": "markdown",
   "metadata": {},
   "source": [
    "## Normalized TF/TF-IDF Representation\n",
    "\n",
    "Now we transform the matrix of token counts to a normalized tf or tf-idf representation, where tf represents term frequency and tf-idf represents the frequency times the inverse document frequency, that way the importance/scale of certain repeated tokens throughout the text is reduced."
   ]
  },
  {
   "cell_type": "code",
   "execution_count": 14,
   "metadata": {},
   "outputs": [
    {
     "name": "stdout",
     "output_type": "stream",
     "text": [
      "(3999, 55777)\n"
     ]
    }
   ],
   "source": [
    "tfidf_transformer = TfidfTransformer()\n",
    "base_train = tfidf_transformer.fit_transform(base_train)\n",
    "print(base_train.shape)"
   ]
  },
  {
   "cell_type": "markdown",
   "metadata": {},
   "source": [
    "## Feature Engineering / Modeling"
   ]
  },
  {
   "cell_type": "markdown",
   "metadata": {},
   "source": [
    "## Baseline\n",
    "\n",
    "In order to test the performance of our feature engineering steps, we will create several initial baseline models, that way we will see how our efforts increase the models predictive power.\n",
    "\n",
    "### Train Function\n",
    "Here we define the train function which will be used with the different models, it performs a cross validation score on 80% of the training data and a final validation on the remaining 20%."
   ]
  },
  {
   "cell_type": "code",
   "execution_count": 15,
   "metadata": {},
   "outputs": [],
   "source": [
    "def train(X, y, model, grid = None):\n",
    "    X_train, X_test, y_train, y_test = train_test_split(X, y, test_size=0.20, random_state=SEED)\n",
    "    \n",
    "    if grid:\n",
    "        model = RandomizedSearchCV(model, grid, cv=5, n_iter=10, refit=True, return_train_score=False, error_score=0.0, n_jobs=-1, random_state=SEED)\n",
    "        model.fit(X_train, y_train)\n",
    "        scores = model.cv_results_[\"mean_test_score\"]\n",
    "    else:\n",
    "        scores = cross_val_score(model, X_train, y_train, cv=5)\n",
    "        model.fit(X_train, y_train)\n",
    "        \n",
    "    predictions = model.predict(X_test)\n",
    "\n",
    "    print(\"Cross validation scores: \\n\" + str(scores))\n",
    "    print(\"Classification Report: \\n\" + str(classification_report(y_test, predictions)))\n",
    "    print(\"Accuracy: \\n\" + str(metric_scorer(y_test, predictions)))\n",
    "    print(\"Confusion Matrix: \\n\")\n",
    "    plot_confusion_matrix(y_test, predictions)\n",
    "    \n",
    "    return model"
   ]
  },
  {
   "cell_type": "markdown",
   "metadata": {},
   "source": [
    "### Naive Bayes "
   ]
  },
  {
   "cell_type": "code",
   "execution_count": 17,
   "metadata": {},
   "outputs": [
    {
     "name": "stdout",
     "output_type": "stream",
     "text": [
      "Cross validation scores: \n",
      "[0.725      0.721875   0.7546875  0.7015625  0.72143975]\n",
      "Classification Report: \n",
      "              precision    recall  f1-score   support\n",
      "\n",
      "        FAKE       0.98      0.54      0.70       421\n",
      "        REAL       0.66      0.99      0.79       379\n",
      "\n",
      "   micro avg       0.76      0.76      0.76       800\n",
      "   macro avg       0.82      0.77      0.75       800\n",
      "weighted avg       0.83      0.76      0.74       800\n",
      "\n",
      "Accuracy: \n",
      "0.755\n",
      "Confusion Matrix: \n",
      "\n"
     ]
    },
    {
     "data": {
      "image/png": "[encoded data removed]",
      "text/plain": [
       "<Figure size 432x288 with 2 Axes>"
      ]
     },
     "metadata": {
      "needs_background": "light"
     },
     "output_type": "display_data"
    }
   ],
   "source": [
    "nb = train(X, y, MultinomialNB())"
   ]
  },
  {
   "cell_type": "markdown",
   "metadata": {},
   "source": [
    "### Random Forest"
   ]
  },
  {
   "cell_type": "code",
   "execution_count": 16,
   "metadata": {},
   "outputs": [
    {
     "name": "stdout",
     "output_type": "stream",
     "text": [
      "Cross validation scores: \n",
      "[0.89375    0.8796875  0.8890625  0.8625     0.87636933]\n",
      "Classification Report: \n",
      "              precision    recall  f1-score   support\n",
      "\n",
      "        FAKE       0.87      0.92      0.90       421\n",
      "        REAL       0.91      0.85      0.88       379\n",
      "\n",
      "   micro avg       0.89      0.89      0.89       800\n",
      "   macro avg       0.89      0.89      0.89       800\n",
      "weighted avg       0.89      0.89      0.89       800\n",
      "\n",
      "Accuracy: \n",
      "0.88875\n",
      "Confusion Matrix: \n",
      "\n"
     ]
    },
    {
     "data": {
      "image/png": "[encoded data removed]",
      "text/plain": [
       "<Figure size 432x288 with 2 Axes>"
      ]
     },
     "metadata": {
      "needs_background": "light"
     },
     "output_type": "display_data"
    }
   ],
   "source": [
    "X = base_train\n",
    "y = train_cc['label']\n",
    "rf = train(X, y, RandomForestClassifier(n_estimators=100, random_state=SEED))"
   ]
  },
  {
   "cell_type": "markdown",
   "metadata": {},
   "source": [
    "### Logistic Regression"
   ]
  },
  {
   "cell_type": "code",
   "execution_count": 18,
   "metadata": {},
   "outputs": [
    {
     "name": "stderr",
     "output_type": "stream",
     "text": [
      "/anaconda3/lib/python3.7/site-packages/sklearn/linear_model/logistic.py:433: FutureWarning: Default solver will be changed to 'lbfgs' in 0.22. Specify a solver to silence this warning.\n",
      "  FutureWarning)\n"
     ]
    },
    {
     "name": "stdout",
     "output_type": "stream",
     "text": [
      "Cross validation scores: \n",
      "[0.8921875  0.8921875  0.89375    0.9046875  0.89514867]\n",
      "Classification Report: \n",
      "              precision    recall  f1-score   support\n",
      "\n",
      "        FAKE       0.91      0.93      0.92       421\n",
      "        REAL       0.92      0.89      0.91       379\n",
      "\n",
      "   micro avg       0.91      0.91      0.91       800\n",
      "   macro avg       0.91      0.91      0.91       800\n",
      "weighted avg       0.91      0.91      0.91       800\n",
      "\n",
      "Accuracy: \n",
      "0.9125\n",
      "Confusion Matrix: \n",
      "\n"
     ]
    },
    {
     "data": {
      "image/png": "[encoded data removed]",
      "text/plain": [
       "<Figure size 432x288 with 2 Axes>"
      ]
     },
     "metadata": {
      "needs_background": "light"
     },
     "output_type": "display_data"
    }
   ],
   "source": [
    "lrg = train(X, y, LogisticRegression())"
   ]
  },
  {
   "cell_type": "markdown",
   "metadata": {},
   "source": [
    "### Support Vector Machine"
   ]
  },
  {
   "cell_type": "code",
   "execution_count": 19,
   "metadata": {},
   "outputs": [
    {
     "name": "stderr",
     "output_type": "stream",
     "text": [
      "/anaconda3/lib/python3.7/site-packages/sklearn/linear_model/stochastic_gradient.py:166: FutureWarning: max_iter and tol parameters have been added in SGDClassifier in 0.19. If both are left unset, they default to max_iter=5 and tol=None. If tol is not None, max_iter defaults to max_iter=1000. From 0.21, default max_iter will be 1000, and default tol will be 1e-3.\n",
      "  FutureWarning)\n"
     ]
    },
    {
     "name": "stdout",
     "output_type": "stream",
     "text": [
      "Cross validation scores: \n",
      "[0.896875   0.9109375  0.8890625  0.90625    0.90140845]\n",
      "Classification Report: \n",
      "              precision    recall  f1-score   support\n",
      "\n",
      "        FAKE       0.88      0.95      0.92       421\n",
      "        REAL       0.94      0.86      0.90       379\n",
      "\n",
      "   micro avg       0.91      0.91      0.91       800\n",
      "   macro avg       0.91      0.91      0.91       800\n",
      "weighted avg       0.91      0.91      0.91       800\n",
      "\n",
      "Accuracy: \n",
      "0.90875\n",
      "Confusion Matrix: \n",
      "\n"
     ]
    },
    {
     "data": {
      "image/png": "[encoded data removed]",
      "text/plain": [
       "<Figure size 432x288 with 2 Axes>"
      ]
     },
     "metadata": {
      "needs_background": "light"
     },
     "output_type": "display_data"
    }
   ],
   "source": [
    "svm = train(X, y, SGDClassifier(loss='hinge', penalty='l2',alpha=1e-3, random_state=SEED))"
   ]
  },
  {
   "cell_type": "markdown",
   "metadata": {},
   "source": [
    "### Passive Aggressive Classifier"
   ]
  },
  {
   "cell_type": "code",
   "execution_count": 20,
   "metadata": {},
   "outputs": [
    {
     "name": "stdout",
     "output_type": "stream",
     "text": [
      "Cross validation scores: \n",
      "[0.934375   0.946875   0.9296875  0.925      0.93114241]\n",
      "Classification Report: \n",
      "              precision    recall  f1-score   support\n",
      "\n",
      "        FAKE       0.93      0.94      0.93       421\n",
      "        REAL       0.93      0.92      0.92       379\n",
      "\n",
      "   micro avg       0.93      0.93      0.93       800\n",
      "   macro avg       0.93      0.93      0.93       800\n",
      "weighted avg       0.93      0.93      0.93       800\n",
      "\n",
      "Accuracy: \n",
      "0.92875\n",
      "Confusion Matrix: \n",
      "\n"
     ]
    },
    {
     "data": {
      "image/png": "[encoded data removed]",
      "text/plain": [
       "<Figure size 432x288 with 2 Axes>"
      ]
     },
     "metadata": {
      "needs_background": "light"
     },
     "output_type": "display_data"
    }
   ],
   "source": [
    "pac = train(X, y, PassiveAggressiveClassifier(max_iter=1000, random_state=SEED, tol=1e-3))"
   ]
  },
  {
   "cell_type": "markdown",
   "metadata": {},
   "source": [
    "We can see that the Passive Aggressive classifier was the best performing one during our baseline."
   ]
  },
  {
   "cell_type": "markdown",
   "metadata": {},
   "source": [
    "## Feature Engineering\n",
    "\n",
    "### Original Data"
   ]
  },
  {
   "cell_type": "code",
   "execution_count": 21,
   "metadata": {},
   "outputs": [
    {
     "data": {
      "text/html": [
       "<div>\n",
       "<style scoped>\n",
       "    .dataframe tbody tr th:only-of-type {\n",
       "        vertical-align: middle;\n",
       "    }\n",
       "\n",
       "    .dataframe tbody tr th {\n",
       "        vertical-align: top;\n",
       "    }\n",
       "\n",
       "    .dataframe thead th {\n",
       "        text-align: right;\n",
       "    }\n",
       "</style>\n",
       "<table border=\"1\" class=\"dataframe\">\n",
       "  <thead>\n",
       "    <tr style=\"text-align: right;\">\n",
       "      <th></th>\n",
       "      <th>concat</th>\n",
       "      <th>label</th>\n",
       "      <th>title</th>\n",
       "    </tr>\n",
       "  </thead>\n",
       "  <tbody>\n",
       "    <tr>\n",
       "      <th>192</th>\n",
       "      <td>Election Day: No Legal Pot In Ohio  Democrats ...</td>\n",
       "      <td>REAL</td>\n",
       "      <td>Election Day: No Legal Pot In Ohio</td>\n",
       "    </tr>\n",
       "    <tr>\n",
       "      <th>308</th>\n",
       "      <td>Who rode it best? Jesse Jackson mounts up to f...</td>\n",
       "      <td>FAKE</td>\n",
       "      <td>Who rode it best? Jesse Jackson mounts up to f...</td>\n",
       "    </tr>\n",
       "    <tr>\n",
       "      <th>382</th>\n",
       "      <td>Black Hawk crashes off Florida  human remains ...</td>\n",
       "      <td>REAL</td>\n",
       "      <td>Black Hawk crashes off Florida</td>\n",
       "    </tr>\n",
       "    <tr>\n",
       "      <th>660</th>\n",
       "      <td>Afghanistan: 19 die in air attacks on hospital...</td>\n",
       "      <td>REAL</td>\n",
       "      <td>Afghanistan: 19 die in air attacks on hospital</td>\n",
       "    </tr>\n",
       "    <tr>\n",
       "      <th>889</th>\n",
       "      <td>Al Qaeda rep says group directed Paris magazin...</td>\n",
       "      <td>REAL</td>\n",
       "      <td>Al Qaeda rep says group directed Paris magazin...</td>\n",
       "    </tr>\n",
       "  </tbody>\n",
       "</table>\n",
       "</div>"
      ],
      "text/plain": [
       "                                                concat label  \\\n",
       "192  Election Day: No Legal Pot In Ohio  Democrats ...  REAL   \n",
       "308  Who rode it best? Jesse Jackson mounts up to f...  FAKE   \n",
       "382  Black Hawk crashes off Florida  human remains ...  REAL   \n",
       "660  Afghanistan: 19 die in air attacks on hospital...  REAL   \n",
       "889  Al Qaeda rep says group directed Paris magazin...  REAL   \n",
       "\n",
       "                                                 title  \n",
       "192                 Election Day: No Legal Pot In Ohio  \n",
       "308  Who rode it best? Jesse Jackson mounts up to f...  \n",
       "382                     Black Hawk crashes off Florida  \n",
       "660     Afghanistan: 19 die in air attacks on hospital  \n",
       "889  Al Qaeda rep says group directed Paris magazin...  "
      ]
     },
     "execution_count": 21,
     "metadata": {},
     "output_type": "execute_result"
    }
   ],
   "source": [
    "train_cc.head()"
   ]
  },
  {
   "cell_type": "markdown",
   "metadata": {},
   "source": [
    "### Stemming\n",
    "Here we will stem the news text with two different stemmers (Porter and Snowball) and see how the scores differ. Overall, we perform the following transformations:\n",
    "\n",
    "- Stemming of the words\n",
    "\n",
    "- Removing punctuation, stop words and other characters\n",
    "\n",
    "- Convert to Lower case and split string into words (tokenization)"
   ]
  },
  {
   "cell_type": "code",
   "execution_count": 22,
   "metadata": {},
   "outputs": [
    {
     "data": {
      "text/html": [
       "<div>\n",
       "<style scoped>\n",
       "    .dataframe tbody tr th:only-of-type {\n",
       "        vertical-align: middle;\n",
       "    }\n",
       "\n",
       "    .dataframe tbody tr th {\n",
       "        vertical-align: top;\n",
       "    }\n",
       "\n",
       "    .dataframe thead th {\n",
       "        text-align: right;\n",
       "    }\n",
       "</style>\n",
       "<table border=\"1\" class=\"dataframe\">\n",
       "  <thead>\n",
       "    <tr style=\"text-align: right;\">\n",
       "      <th></th>\n",
       "      <th>concat</th>\n",
       "      <th>label</th>\n",
       "      <th>title</th>\n",
       "    </tr>\n",
       "  </thead>\n",
       "  <tbody>\n",
       "    <tr>\n",
       "      <th>192</th>\n",
       "      <td>elect day no legal pot in ohio democrat lose i...</td>\n",
       "      <td>REAL</td>\n",
       "      <td>Election Day: No Legal Pot In Ohio</td>\n",
       "    </tr>\n",
       "    <tr>\n",
       "      <th>308</th>\n",
       "      <td>who rode best jess jackson mount fight pipelin...</td>\n",
       "      <td>FAKE</td>\n",
       "      <td>Who rode it best? Jesse Jackson mounts up to f...</td>\n",
       "    </tr>\n",
       "    <tr>\n",
       "      <th>382</th>\n",
       "      <td>black hawk crash florida human remain found cn...</td>\n",
       "      <td>REAL</td>\n",
       "      <td>Black Hawk crashes off Florida</td>\n",
       "    </tr>\n",
       "    <tr>\n",
       "      <th>660</th>\n",
       "      <td>afghanistan die air attack hospit u s investig...</td>\n",
       "      <td>REAL</td>\n",
       "      <td>Afghanistan: 19 die in air attacks on hospital</td>\n",
       "    </tr>\n",
       "    <tr>\n",
       "      <th>889</th>\n",
       "      <td>al qaeda rep say group direct pari magazin att...</td>\n",
       "      <td>REAL</td>\n",
       "      <td>Al Qaeda rep says group directed Paris magazin...</td>\n",
       "    </tr>\n",
       "  </tbody>\n",
       "</table>\n",
       "</div>"
      ],
      "text/plain": [
       "                                                concat label  \\\n",
       "192  elect day no legal pot in ohio democrat lose i...  REAL   \n",
       "308  who rode best jess jackson mount fight pipelin...  FAKE   \n",
       "382  black hawk crash florida human remain found cn...  REAL   \n",
       "660  afghanistan die air attack hospit u s investig...  REAL   \n",
       "889  al qaeda rep say group direct pari magazin att...  REAL   \n",
       "\n",
       "                                                 title  \n",
       "192                 Election Day: No Legal Pot In Ohio  \n",
       "308  Who rode it best? Jesse Jackson mounts up to f...  \n",
       "382                     Black Hawk crashes off Florida  \n",
       "660     Afghanistan: 19 die in air attacks on hospital  \n",
       "889  Al Qaeda rep says group directed Paris magazin...  "
      ]
     },
     "execution_count": 22,
     "metadata": {},
     "output_type": "execute_result"
    }
   ],
   "source": [
    "stem_train = train_cc.copy()\n",
    "words = stopwords.words(\"english\")\n",
    "#stemmer = PorterStemmer()\n",
    "stemmer = SnowballStemmer(language='english')\n",
    "stem_train['concat'] = stem_train['concat'].apply(lambda x: \" \".join([stemmer.stem(i) for i in re.sub(\"[^a-zA-Z]\", \" \", x).split() if i not in words]).lower())\n",
    "stem_train.head()                "
   ]
  },
  {
   "cell_type": "code",
   "execution_count": 23,
   "metadata": {},
   "outputs": [
    {
     "name": "stdout",
     "output_type": "stream",
     "text": [
      "Cross validation scores: \n",
      "[0.9296875  0.9296875  0.9375     0.9421875  0.94209703]\n",
      "Classification Report: \n",
      "              precision    recall  f1-score   support\n",
      "\n",
      "        FAKE       0.95      0.95      0.95       421\n",
      "        REAL       0.94      0.95      0.95       379\n",
      "\n",
      "   micro avg       0.95      0.95      0.95       800\n",
      "   macro avg       0.95      0.95      0.95       800\n",
      "weighted avg       0.95      0.95      0.95       800\n",
      "\n",
      "Accuracy: \n",
      "0.94875\n",
      "Confusion Matrix: \n",
      "\n"
     ]
    },
    {
     "data": {
      "image/png": "[encoded data removed]",
      "text/plain": [
       "<Figure size 432x288 with 2 Axes>"
      ]
     },
     "metadata": {
      "needs_background": "light"
     },
     "output_type": "display_data"
    }
   ],
   "source": [
    "stem_train = TfidfVectorizer(min_df= 3, stop_words=\"english\", sublinear_tf=True, norm='l2', ngram_range=(1, 2)).fit_transform(stem_train[\"concat\"])\n",
    "X = stem_train\n",
    "y = train_cc['label']\n",
    "pac = train(X, y, PassiveAggressiveClassifier(max_iter=1000, random_state=SEED, tol=1e-3))"
   ]
  },
  {
   "cell_type": "markdown",
   "metadata": {},
   "source": [
    "Stemming is closely related to lemmatisation. The difference is that a stemmer operates on a single word without knowledge of the context, and therefore cannot discriminate between words which have different meanings depending on part of speech. However, stemmers are typically easier to implement and run faster, and the reduced accuracy may not matter for some applications."
   ]
  },
  {
   "cell_type": "markdown",
   "metadata": {},
   "source": [
    "## Lemmatizing and POS Tagging with Spacy"
   ]
  },
  {
   "cell_type": "markdown",
   "metadata": {},
   "source": [
    "Using Spacy we will do the following transformations:\n",
    "\n",
    "- Lemmatization of the words\n",
    "\n",
    "- POS Tagging of the words\n",
    "\n",
    "- Removing punctuation, stop words and other characters\n",
    "\n",
    "- Convert to Lower case and split string into words (tokenization)\n",
    "\n",
    "- We remove words with a frequency of less than 0.01% or with more than 0.99%\n",
    "\n",
    "Here is a sample of the lemmatization and tagging:"
   ]
  },
  {
   "cell_type": "code",
   "execution_count": 24,
   "metadata": {},
   "outputs": [
    {
     "name": "stdout",
     "output_type": "stream",
     "text": [
      "Bernie supporters on Twitter erupt in anger agains\n",
      "----------------------------------------------------\n",
      "Token: Bernie, Lemma: Bernie, POS: PROPN\n",
      "Token: supporters, Lemma: supporter, POS: NOUN\n",
      "Token: on, Lemma: on, POS: ADP\n",
      "Token: Twitter, Lemma: Twitter, POS: PROPN\n",
      "Token: erupt, Lemma: erupt, POS: NOUN\n"
     ]
    }
   ],
   "source": [
    "nlp = spacy.load(\"en_core_web_sm\", disable=[\"parser\", \"ner\", \"textcat\"])\n",
    "doc = nlp(train_cc['concat'][3])\n",
    "print(doc.text[:50])\n",
    "print('----------------------------------------------------')\n",
    "for token in doc[:5]:\n",
    "    print(f'Token: {token.text}, Lemma: {token.lemma_}, POS: {token.pos_}')"
   ]
  },
  {
   "cell_type": "markdown",
   "metadata": {},
   "source": [
    "### Defining our own Tokenizer\n",
    "\n",
    "The removal of punctuation, stop words and digits decreased the models performance, therefore it is commented."
   ]
  },
  {
   "cell_type": "markdown",
   "metadata": {},
   "source": [
    "We Tested different \"ngram_range\" configurations with (1, 2) being the optimal solution both on accuracy and running time."
   ]
  },
  {
   "cell_type": "code",
   "execution_count": 25,
   "metadata": {},
   "outputs": [],
   "source": [
    "def tokenizer(text):\n",
    "    return [token.lemma_.lower().strip() + token.pos_ for token in nlp(text)]\n",
    "#     if \n",
    "#         not token.is_stop and not nlp.vocab[token.lemma_].is_stop\n",
    "#         and not token.is_punct\n",
    "#         and not token.is_digit\n",
    "#     ]\n",
    "\n",
    "vect = TfidfVectorizer(analyzer = 'word', max_df=0.99, min_df=0.01, ngram_range=(1,2), tokenizer=tokenizer)"
   ]
  },
  {
   "cell_type": "markdown",
   "metadata": {},
   "source": [
    "### Testing with tokenized concatenated text and title"
   ]
  },
  {
   "cell_type": "code",
   "execution_count": 26,
   "metadata": {},
   "outputs": [
    {
     "data": {
      "text/plain": [
       "(3999, 13952)"
      ]
     },
     "execution_count": 26,
     "metadata": {},
     "output_type": "execute_result"
    }
   ],
   "source": [
    "vectorized = vect.fit_transform(train_cc[\"concat\"])\n",
    "vectorized.shape"
   ]
  },
  {
   "cell_type": "code",
   "execution_count": 75,
   "metadata": {},
   "outputs": [
    {
     "name": "stdout",
     "output_type": "stream",
     "text": [
      "Cross validation scores: \n",
      "[0.9484375  0.9625     0.9484375  0.946875   0.95305164]\n",
      "Classification Report: \n",
      "              precision    recall  f1-score   support\n",
      "\n",
      "        FAKE       0.96      0.97      0.96       421\n",
      "        REAL       0.96      0.95      0.96       379\n",
      "\n",
      "   micro avg       0.96      0.96      0.96       800\n",
      "   macro avg       0.96      0.96      0.96       800\n",
      "weighted avg       0.96      0.96      0.96       800\n",
      "\n",
      "Accuracy: \n",
      "0.96\n",
      "Confusion Matrix: \n",
      "\n"
     ]
    },
    {
     "data": {
      "image/png": "[encoded data removed]",
      "text/plain": [
       "<Figure size 432x288 with 2 Axes>"
      ]
     },
     "metadata": {
      "needs_background": "light"
     },
     "output_type": "display_data"
    }
   ],
   "source": [
    "X = vectorized\n",
    "y = train_cc['label']\n",
    "pac = train(X, y, PassiveAggressiveClassifier(max_iter=1000, random_state=SEED, tol=1e-3))"
   ]
  },
  {
   "cell_type": "markdown",
   "metadata": {},
   "source": [
    "### Testing with tokenized title"
   ]
  },
  {
   "cell_type": "code",
   "execution_count": 28,
   "metadata": {},
   "outputs": [
    {
     "data": {
      "text/plain": [
       "(3999, 169)"
      ]
     },
     "execution_count": 28,
     "metadata": {},
     "output_type": "execute_result"
    }
   ],
   "source": [
    "vect_title = vect.fit_transform(train_cc[\"title\"])\n",
    "vect_title.shape"
   ]
  },
  {
   "cell_type": "code",
   "execution_count": 29,
   "metadata": {},
   "outputs": [
    {
     "name": "stdout",
     "output_type": "stream",
     "text": [
      "Cross validation scores: \n",
      "[0.6671875  0.690625   0.709375   0.7390625  0.72300469]\n",
      "Classification Report: \n",
      "              precision    recall  f1-score   support\n",
      "\n",
      "        FAKE       0.72      0.74      0.73       421\n",
      "        REAL       0.70      0.68      0.69       379\n",
      "\n",
      "   micro avg       0.71      0.71      0.71       800\n",
      "   macro avg       0.71      0.71      0.71       800\n",
      "weighted avg       0.71      0.71      0.71       800\n",
      "\n",
      "Accuracy: \n",
      "0.70875\n",
      "Confusion Matrix: \n",
      "\n"
     ]
    },
    {
     "data": {
      "image/png": "[encoded data removed]",
      "text/plain": [
       "<Figure size 432x288 with 2 Axes>"
      ]
     },
     "metadata": {
      "needs_background": "light"
     },
     "output_type": "display_data"
    }
   ],
   "source": [
    "X = vect_title\n",
    "y = train_cc['label']\n",
    "pac = train(X, y, PassiveAggressiveClassifier(max_iter=1000, random_state=SEED, tol=1e-3))"
   ]
  },
  {
   "cell_type": "markdown",
   "metadata": {},
   "source": [
    "### Testing with a combination of tokenized title and concatenated text and title"
   ]
  },
  {
   "cell_type": "code",
   "execution_count": 30,
   "metadata": {},
   "outputs": [
    {
     "data": {
      "text/plain": [
       "(3999, 14121)"
      ]
     },
     "execution_count": 30,
     "metadata": {},
     "output_type": "execute_result"
    }
   ],
   "source": [
    "vectfinal = hstack([vectorized, vect_title])\n",
    "vectfinal.shape"
   ]
  },
  {
   "cell_type": "code",
   "execution_count": 31,
   "metadata": {},
   "outputs": [
    {
     "name": "stdout",
     "output_type": "stream",
     "text": [
      "Cross validation scores: \n",
      "[0.9359375  0.95625    0.940625   0.925      0.94522692]\n",
      "Classification Report: \n",
      "              precision    recall  f1-score   support\n",
      "\n",
      "        FAKE       0.94      0.95      0.94       421\n",
      "        REAL       0.94      0.93      0.94       379\n",
      "\n",
      "   micro avg       0.94      0.94      0.94       800\n",
      "   macro avg       0.94      0.94      0.94       800\n",
      "weighted avg       0.94      0.94      0.94       800\n",
      "\n",
      "Accuracy: \n",
      "0.94\n",
      "Confusion Matrix: \n",
      "\n"
     ]
    },
    {
     "data": {
      "image/png": "[encoded data removed]",
      "text/plain": [
       "<Figure size 432x288 with 2 Axes>"
      ]
     },
     "metadata": {
      "needs_background": "light"
     },
     "output_type": "display_data"
    }
   ],
   "source": [
    "X = vectfinal\n",
    "y = train_cc['label']\n",
    "pac = train(X, y, PassiveAggressiveClassifier(max_iter=1000, random_state=SEED, tol=1e-3))"
   ]
  },
  {
   "cell_type": "markdown",
   "metadata": {},
   "source": [
    "The best performing one was simply with a tokenized concatenated text and title version."
   ]
  },
  {
   "cell_type": "markdown",
   "metadata": {},
   "source": [
    "## Hyperparameter Tuning\n",
    "\n",
    "Now that we have the best performing model which is a Passive Agressive Classifier with lemmatization and POS tagging of the concatenated text and title, we will do a 5 fold cross validated randomized grid search over it to get the best parameters for the model."
   ]
  },
  {
   "cell_type": "code",
   "execution_count": 54,
   "metadata": {},
   "outputs": [
    {
     "name": "stdout",
     "output_type": "stream",
     "text": [
      "Cross validation scores: \n",
      "[0.94873398 0.94873398 0.94810878 0.94904658 0.94873398 0.94935917\n",
      " 0.94873398 0.94810878 0.94748359 0.94810878]\n",
      "Classification Report: \n",
      "              precision    recall  f1-score   support\n",
      "\n",
      "        FAKE       0.95      0.96      0.96       421\n",
      "        REAL       0.96      0.95      0.95       379\n",
      "\n",
      "   micro avg       0.95      0.95      0.95       800\n",
      "   macro avg       0.96      0.95      0.95       800\n",
      "weighted avg       0.96      0.95      0.95       800\n",
      "\n",
      "Accuracy: \n",
      "0.955\n",
      "Confusion Matrix: \n",
      "\n"
     ]
    },
    {
     "data": {
      "image/png": "[encoded data removed]",
      "text/plain": [
       "<Figure size 432x288 with 2 Axes>"
      ]
     },
     "metadata": {
      "needs_background": "light"
     },
     "output_type": "display_data"
    }
   ],
   "source": [
    "X = train_cc['concat']\n",
    "y = train_cc['label']\n",
    "\n",
    "grid = {\n",
    "    \"pac__C\": [1.0, 10.0, 100.0],\n",
    "    \"pac__tol\": [1e-2, 1e-3, 1e-4],\n",
    "    \"pac__max_iter\": [1000, 2000, 3000],\n",
    "}\n",
    "\n",
    "pipeline = Pipeline([\n",
    "    ('vect', vect),\n",
    "    ('pac', PassiveAggressiveClassifier(max_iter=1000, C=1.0, random_state=SEED, tol=1e-3, n_jobs=-1))\n",
    "])\n",
    "\n",
    "pipeline = train(X, y, pipeline, grid)"
   ]
  },
  {
   "cell_type": "code",
   "execution_count": 71,
   "metadata": {},
   "outputs": [
    {
     "data": {
      "text/plain": [
       "{'pac__tol': 0.001, 'pac__max_iter': 1000, 'pac__C': 10.0}"
      ]
     },
     "execution_count": 71,
     "metadata": {},
     "output_type": "execute_result"
    }
   ],
   "source": [
    "pipeline.best_params_"
   ]
  },
  {
   "cell_type": "markdown",
   "metadata": {},
   "source": [
    "## Final Pipeline\n",
    "We can see that the accuracy decreased from the hyperpaarameter tuning, this may be due to overfitting of the data, therefore we will stick to our initial model and create a final pipeline to perform predictionss on the test data."
   ]
  },
  {
   "cell_type": "code",
   "execution_count": 76,
   "metadata": {},
   "outputs": [
    {
     "data": {
      "text/plain": [
       "Pipeline(memory=None,\n",
       "     steps=[('vect', TfidfVectorizer(analyzer='word', binary=False, decode_error='strict',\n",
       "        dtype=<class 'numpy.float64'>, encoding='utf-8', input='content',\n",
       "        lowercase=True, max_df=0.99, max_features=None, min_df=0.01,\n",
       "        ngram_range=(1, 2), norm='l2', preprocessor=None, smooth_idf=Tr...te=1, shuffle=True, tol=0.001,\n",
       "              validation_fraction=0.1, verbose=0, warm_start=False))])"
      ]
     },
     "execution_count": 76,
     "metadata": {},
     "output_type": "execute_result"
    }
   ],
   "source": [
    "final_pipe = Pipeline([\n",
    "    ('vect', vect),\n",
    "    ('pac', PassiveAggressiveClassifier(max_iter=1000, random_state=SEED, tol=1e-3))\n",
    "])\n",
    "\n",
    "X = train_cc['concat']\n",
    "y = train_cc['label']\n",
    "\n",
    "final_pipe.fit(X, y)"
   ]
  },
  {
   "cell_type": "markdown",
   "metadata": {},
   "source": [
    "## Predictions on Test Set\n",
    "\n",
    "With our final pipeline we perform preditions on the test set."
   ]
  },
  {
   "cell_type": "code",
   "execution_count": 78,
   "metadata": {},
   "outputs": [
    {
     "data": {
      "text/html": [
       "<div>\n",
       "<style scoped>\n",
       "    .dataframe tbody tr th:only-of-type {\n",
       "        vertical-align: middle;\n",
       "    }\n",
       "\n",
       "    .dataframe tbody tr th {\n",
       "        vertical-align: top;\n",
       "    }\n",
       "\n",
       "    .dataframe thead th {\n",
       "        text-align: right;\n",
       "    }\n",
       "</style>\n",
       "<table border=\"1\" class=\"dataframe\">\n",
       "  <thead>\n",
       "    <tr style=\"text-align: right;\">\n",
       "      <th></th>\n",
       "      <th>concat</th>\n",
       "      <th>title</th>\n",
       "      <th>News_id</th>\n",
       "      <th>prediction</th>\n",
       "    </tr>\n",
       "  </thead>\n",
       "  <tbody>\n",
       "    <tr>\n",
       "      <th>0</th>\n",
       "      <td>September New Homes Sales Rise——-Back To 1992 ...</td>\n",
       "      <td>September New Homes Sales Rise——-Back To 1992 ...</td>\n",
       "      <td>10498</td>\n",
       "      <td>FAKE</td>\n",
       "    </tr>\n",
       "    <tr>\n",
       "      <th>1</th>\n",
       "      <td>Why The Obamacare Doomsday Cult Can't Admit It...</td>\n",
       "      <td>Why The Obamacare Doomsday Cult Can't Admit It...</td>\n",
       "      <td>2439</td>\n",
       "      <td>REAL</td>\n",
       "    </tr>\n",
       "    <tr>\n",
       "      <th>2</th>\n",
       "      <td>Sanders, Cruz resist pressure after NY losses,...</td>\n",
       "      <td>Sanders, Cruz resist pressure after NY losses,...</td>\n",
       "      <td>864</td>\n",
       "      <td>REAL</td>\n",
       "    </tr>\n",
       "    <tr>\n",
       "      <th>3</th>\n",
       "      <td>Surviving escaped prisoner likely fatigued and...</td>\n",
       "      <td>Surviving escaped prisoner likely fatigued and...</td>\n",
       "      <td>4128</td>\n",
       "      <td>REAL</td>\n",
       "    </tr>\n",
       "    <tr>\n",
       "      <th>4</th>\n",
       "      <td>Clinton and Sanders neck and neck in Californi...</td>\n",
       "      <td>Clinton and Sanders neck and neck in Californi...</td>\n",
       "      <td>662</td>\n",
       "      <td>REAL</td>\n",
       "    </tr>\n",
       "  </tbody>\n",
       "</table>\n",
       "</div>"
      ],
      "text/plain": [
       "                                              concat  \\\n",
       "0  September New Homes Sales Rise——-Back To 1992 ...   \n",
       "1  Why The Obamacare Doomsday Cult Can't Admit It...   \n",
       "2  Sanders, Cruz resist pressure after NY losses,...   \n",
       "3  Surviving escaped prisoner likely fatigued and...   \n",
       "4  Clinton and Sanders neck and neck in Californi...   \n",
       "\n",
       "                                               title  News_id prediction  \n",
       "0  September New Homes Sales Rise——-Back To 1992 ...    10498       FAKE  \n",
       "1  Why The Obamacare Doomsday Cult Can't Admit It...     2439       REAL  \n",
       "2  Sanders, Cruz resist pressure after NY losses,...      864       REAL  \n",
       "3  Surviving escaped prisoner likely fatigued and...     4128       REAL  \n",
       "4  Clinton and Sanders neck and neck in Californi...      662       REAL  "
      ]
     },
     "execution_count": 78,
     "metadata": {},
     "output_type": "execute_result"
    }
   ],
   "source": [
    "final_test = test_cc.copy()\n",
    "final_test[\"predictions\"] = final_pipe.predict(final_test[\"concat\"])\n",
    "final_test.columns = [\"concat\", \"title\", \"News_id\", \"prediction\"]\n",
    "final_test[[\"News_id\", \"prediction\"]].to_csv(\"predictions.csv\", index=False)\n",
    "final_test.head()"
   ]
  },
  {
   "cell_type": "markdown",
   "metadata": {},
   "source": [
    "# Conclusions\n",
    "\n",
    "The classification report obtained from our final model on a 20% holdout of the data shows its accuracy, precision (how often the predictions are correct) and the recall (how many of the total observations in the set are correctly classified), also its f1-score (harmonic average of both). The weighted average for all of them stands at 96% which means that it can classify which articles are fake with great efficacy.\n",
    "\n",
    "This information is extremely useful to multiple actors, including social networks and end consumers since it can help them differentiate between real and fake stories, which often lead to skewed views of current world events."
   ]
  }
 ],
 "metadata": {
  "kernelspec": {
   "display_name": "Python 3",
   "language": "python",
   "name": "python3"
  },
  "language_info": {
   "codemirror_mode": {
    "name": "ipython",
    "version": 3
   },
   "file_extension": ".py",
   "mimetype": "text/x-python",
   "name": "python",
   "nbconvert_exporter": "python",
   "pygments_lexer": "ipython3",
   "version": "3.7.2"
  }
 },
 "nbformat": 4,
 "nbformat_minor": 2
}
