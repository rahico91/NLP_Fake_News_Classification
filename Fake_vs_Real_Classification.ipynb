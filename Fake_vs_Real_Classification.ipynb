{
 "cells": [
  {
   "cell_type": "code",
   "execution_count": 36,
   "metadata": {},
   "outputs": [
    {
     "name": "stderr",
     "output_type": "stream",
     "text": [
      "[nltk_data] Downloading package stopwords to\n",
      "[nltk_data]     /Users/rafaelhernandez/nltk_data...\n",
      "[nltk_data]   Package stopwords is already up-to-date!\n"
     ]
    }
   ],
   "source": [
    "import numpy as np\n",
    "import pandas as pd\n",
    "import matplotlib.pyplot as plt\n",
    "import seaborn as sns\n",
    "import sklearn as skl\n",
    "import nltk as nl\n",
    "import string as s\n",
    "import re\n",
    "\n",
    "nl.download('stopwords')\n",
    "\n",
    "from nltk.corpus import stopwords\n",
    "from nltk.stem import PorterStemmer\n",
    "from sklearn.feature_extraction.text import TfidfVectorizer\n",
    "from sklearn.pipeline import Pipeline\n",
    "from sklearn.metrics import classification_report, confusion_matrix\n",
    "from sklearn.model_selection import train_test_split\n",
    "from sklearn.feature_selection import SelectKBest, chi2\n",
    "from sklearn.ensemble import RandomForestClassifier\n",
    "%matplotlib inline"
   ]
  },
  {
   "cell_type": "code",
   "execution_count": 3,
   "metadata": {},
   "outputs": [],
   "source": [
    "train_data = pd.read_csv(\"fake_or_real_news_training.csv\")\n",
    "test_data = pd.read_csv(\"fake_or_real_news_test.csv\")"
   ]
  },
  {
   "cell_type": "code",
   "execution_count": 11,
   "metadata": {},
   "outputs": [
    {
     "data": {
      "text/plain": [
       "'U.S. Secretary of State John F. Kerry said Monday that he will stop in Paris later this week, amid criticism that no top American officials attended Sunday’s unity march against terrorism.\\n\\nKerry said he expects to arrive in Paris Thursday evening, as he heads home after a week abroad. He said he will fly to France at the conclusion of a series of meetings scheduled for Thursday in Sofia, Bulgaria. He plans to meet the next day with Foreign Minister Laurent Fabius and President Francois Hollande, then return to Washington.\\n\\nThe visit by Kerry, who has family and childhood ties to the country and speaks fluent French, could address some of the criticism that the United States snubbed France in its darkest hour in many years.\\n\\nThe French press on Monday was filled with questions about why neither President Obama nor Kerry attended Sunday’s march, as about 40 leaders of other nations did. Obama was said to have stayed away because his own security needs can be taxing on a country, and Kerry had prior commitments.\\n\\nAmong roughly 40 leaders who did attend was Israeli Prime Minister Benjamin Netanyahu, no stranger to intense security, who marched beside Hollande through the city streets. The highest ranking U.S. officials attending the march were Jane Hartley, the ambassador to France, and Victoria Nuland, the assistant secretary of state for European affairs. Attorney General Eric H. Holder Jr. was in Paris for meetings with law enforcement officials but did not participate in the march.\\n\\nKerry spent Sunday at a business summit hosted by India’s prime minister, Narendra Modi. The United States is eager for India to relax stringent laws that function as barriers to foreign investment and hopes Modi’s government will act to open the huge Indian market for more American businesses.\\n\\nIn a news conference, Kerry brushed aside criticism that the United States had not sent a more senior official to Paris as “quibbling a little bit.” He noted that many staffers of the American Embassy in Paris attended the march, including the ambassador. He said he had wanted to be present at the march himself but could not because of his prior commitments in India.\\n\\n“But that is why I am going there on the way home, to make it crystal clear how passionately we feel about the events that have taken place there,” he said.\\n\\n“And I don’t think the people of France have any doubts about America’s understanding of what happened, of our personal sense of loss and our deep commitment to the people of France in this moment of trauma.”'"
      ]
     },
     "execution_count": 11,
     "metadata": {},
     "output_type": "execute_result"
    }
   ],
   "source": [
    "train_data.iloc[2,2]"
   ]
  },
  {
   "cell_type": "code",
   "execution_count": 13,
   "metadata": {},
   "outputs": [
    {
     "data": {
      "text/html": [
       "<div>\n",
       "<style scoped>\n",
       "    .dataframe tbody tr th:only-of-type {\n",
       "        vertical-align: middle;\n",
       "    }\n",
       "\n",
       "    .dataframe tbody tr th {\n",
       "        vertical-align: top;\n",
       "    }\n",
       "\n",
       "    .dataframe thead th {\n",
       "        text-align: right;\n",
       "    }\n",
       "</style>\n",
       "<table border=\"1\" class=\"dataframe\">\n",
       "  <thead>\n",
       "    <tr style=\"text-align: right;\">\n",
       "      <th></th>\n",
       "      <th>ID</th>\n",
       "      <th>title</th>\n",
       "      <th>text</th>\n",
       "      <th>label</th>\n",
       "      <th>X1</th>\n",
       "      <th>X2</th>\n",
       "    </tr>\n",
       "  </thead>\n",
       "  <tbody>\n",
       "    <tr>\n",
       "      <th>0</th>\n",
       "      <td>8476</td>\n",
       "      <td>You Can Smell Hillary’s Fear</td>\n",
       "      <td>Daniel Greenfield, a Shillman Journalism Fello...</td>\n",
       "      <td>FAKE</td>\n",
       "      <td>NaN</td>\n",
       "      <td>NaN</td>\n",
       "    </tr>\n",
       "    <tr>\n",
       "      <th>1</th>\n",
       "      <td>10294</td>\n",
       "      <td>Watch The Exact Moment Paul Ryan Committed Pol...</td>\n",
       "      <td>Google Pinterest Digg Linkedin Reddit Stumbleu...</td>\n",
       "      <td>FAKE</td>\n",
       "      <td>NaN</td>\n",
       "      <td>NaN</td>\n",
       "    </tr>\n",
       "    <tr>\n",
       "      <th>2</th>\n",
       "      <td>3608</td>\n",
       "      <td>Kerry to go to Paris in gesture of sympathy</td>\n",
       "      <td>U.S. Secretary of State John F. Kerry said Mon...</td>\n",
       "      <td>REAL</td>\n",
       "      <td>NaN</td>\n",
       "      <td>NaN</td>\n",
       "    </tr>\n",
       "    <tr>\n",
       "      <th>3</th>\n",
       "      <td>10142</td>\n",
       "      <td>Bernie supporters on Twitter erupt in anger ag...</td>\n",
       "      <td>— Kaydee King (@KaydeeKing) November 9, 2016 T...</td>\n",
       "      <td>FAKE</td>\n",
       "      <td>NaN</td>\n",
       "      <td>NaN</td>\n",
       "    </tr>\n",
       "    <tr>\n",
       "      <th>4</th>\n",
       "      <td>875</td>\n",
       "      <td>The Battle of New York: Why This Primary Matters</td>\n",
       "      <td>It's primary day in New York and front-runners...</td>\n",
       "      <td>REAL</td>\n",
       "      <td>NaN</td>\n",
       "      <td>NaN</td>\n",
       "    </tr>\n",
       "    <tr>\n",
       "      <th>5</th>\n",
       "      <td>6903</td>\n",
       "      <td>Tehran, USA</td>\n",
       "      <td>\\nI’m not an immigrant, but my grandparents ...</td>\n",
       "      <td>FAKE</td>\n",
       "      <td>NaN</td>\n",
       "      <td>NaN</td>\n",
       "    </tr>\n",
       "    <tr>\n",
       "      <th>6</th>\n",
       "      <td>7341</td>\n",
       "      <td>Girl Horrified At What She Watches Boyfriend D...</td>\n",
       "      <td>Share This Baylee Luciani (left), Screenshot o...</td>\n",
       "      <td>FAKE</td>\n",
       "      <td>NaN</td>\n",
       "      <td>NaN</td>\n",
       "    </tr>\n",
       "    <tr>\n",
       "      <th>7</th>\n",
       "      <td>95</td>\n",
       "      <td>‘Britain’s Schindler’ Dies at 106</td>\n",
       "      <td>A Czech stockbroker who saved more than 650 Je...</td>\n",
       "      <td>REAL</td>\n",
       "      <td>NaN</td>\n",
       "      <td>NaN</td>\n",
       "    </tr>\n",
       "    <tr>\n",
       "      <th>8</th>\n",
       "      <td>4869</td>\n",
       "      <td>Fact check: Trump and Clinton at the 'commande...</td>\n",
       "      <td>Hillary Clinton and Donald Trump made some ina...</td>\n",
       "      <td>REAL</td>\n",
       "      <td>NaN</td>\n",
       "      <td>NaN</td>\n",
       "    </tr>\n",
       "    <tr>\n",
       "      <th>9</th>\n",
       "      <td>2909</td>\n",
       "      <td>Iran reportedly makes new push for uranium con...</td>\n",
       "      <td>Iranian negotiators reportedly have made a las...</td>\n",
       "      <td>REAL</td>\n",
       "      <td>NaN</td>\n",
       "      <td>NaN</td>\n",
       "    </tr>\n",
       "  </tbody>\n",
       "</table>\n",
       "</div>"
      ],
      "text/plain": [
       "      ID                                              title  \\\n",
       "0   8476                       You Can Smell Hillary’s Fear   \n",
       "1  10294  Watch The Exact Moment Paul Ryan Committed Pol...   \n",
       "2   3608        Kerry to go to Paris in gesture of sympathy   \n",
       "3  10142  Bernie supporters on Twitter erupt in anger ag...   \n",
       "4    875   The Battle of New York: Why This Primary Matters   \n",
       "5   6903                                        Tehran, USA   \n",
       "6   7341  Girl Horrified At What She Watches Boyfriend D...   \n",
       "7     95                  ‘Britain’s Schindler’ Dies at 106   \n",
       "8   4869  Fact check: Trump and Clinton at the 'commande...   \n",
       "9   2909  Iran reportedly makes new push for uranium con...   \n",
       "\n",
       "                                                text label   X1   X2  \n",
       "0  Daniel Greenfield, a Shillman Journalism Fello...  FAKE  NaN  NaN  \n",
       "1  Google Pinterest Digg Linkedin Reddit Stumbleu...  FAKE  NaN  NaN  \n",
       "2  U.S. Secretary of State John F. Kerry said Mon...  REAL  NaN  NaN  \n",
       "3  — Kaydee King (@KaydeeKing) November 9, 2016 T...  FAKE  NaN  NaN  \n",
       "4  It's primary day in New York and front-runners...  REAL  NaN  NaN  \n",
       "5    \\nI’m not an immigrant, but my grandparents ...  FAKE  NaN  NaN  \n",
       "6  Share This Baylee Luciani (left), Screenshot o...  FAKE  NaN  NaN  \n",
       "7  A Czech stockbroker who saved more than 650 Je...  REAL  NaN  NaN  \n",
       "8  Hillary Clinton and Donald Trump made some ina...  REAL  NaN  NaN  \n",
       "9  Iranian negotiators reportedly have made a las...  REAL  NaN  NaN  "
      ]
     },
     "execution_count": 13,
     "metadata": {},
     "output_type": "execute_result"
    }
   ],
   "source": [
    "train_data.head(10)"
   ]
  },
  {
   "cell_type": "code",
   "execution_count": null,
   "metadata": {},
   "outputs": [],
   "source": [
    "# t0 = nltk.DefaultTagger('NN')\n",
    "# t1 = nltk.UnigramTagger(train_sents, backoff=t0) \n",
    "# t2 = nltk.BigramTagger(train_sents, backoff=t1) \n",
    "# t2.evaluate(test_sents)"
   ]
  },
  {
   "cell_type": "code",
   "execution_count": null,
   "metadata": {},
   "outputs": [],
   "source": [
    "# ps= nltk.corpus.treebank.parsed_sents() print(ps[0])\n",
    "# ps[0].draw()"
   ]
  },
  {
   "cell_type": "code",
   "execution_count": 15,
   "metadata": {},
   "outputs": [
    {
     "name": "stdout",
     "output_type": "stream",
     "text": [
      "REAL                                                                                                                                                                                                                                                                                                                                                                                                                                                                                                                                                                                                                                                                                                                                                                                                                                                                                                                                                                                                                                                                                                                                                                                                                                                                                                                                                                                                                                                                                                                                                                                                                                                                                                                                                                                                                                                                                                                                                                                                                                                                                                                                                                                                                                                                                                                                                                                                                                                                                                                                                                                                                                                                                                                                                                                                                                                                                                                                                                                                                                                                                                                                                                                                                                                                                                                                                                                                                                                                                                                                                                                                                                                                                                                                                                                                                                                                                                                                                                                                                                                                                                                                                                                                                                                                                                                                                                                                                                                                                                                                                                                                                                                                                                                                                                                                                                                                                                                                                                                                                                                                                                                                                                                                                                                                                                                                                                                                                                                                                                                                                                                                                                                                                                                                                                                                                                                                                                                                                                                                                                                                                                                                                                                                                                                                                                                                                                                                                                                                                                                                                                                                                                                                                                                                                                                                                                                                                                                                                                                                                                                                                                                                                                                                                                                                                                                                                                                                                                                                                                                                                                                                                                                                                                                                                                                                                                                                                            0.497624\n",
      "FAKE                                                                                                                                                                                                                                                                                                                                                                                                                                                                                                                                                                                                                                                                                                                                                                                                                                                                                                                                                                                                                                                                                                                                                                                                                                                                                                                                                                                                                                                                                                                                                                                                                                                                                                                                                                                                                                                                                                                                                                                                                                                                                                                                                                                                                                                                                                                                                                                                                                                                                                                                                                                                                                                                                                                                                                                                                                                                                                                                                                                                                                                                                                                                                                                                                                                                                                                                                                                                                                                                                                                                                                                                                                                                                                                                                                                                                                                                                                                                                                                                                                                                                                                                                                                                                                                                                                                                                                                                                                                                                                                                                                                                                                                                                                                                                                                                                                                                                                                                                                                                                                                                                                                                                                                                                                                                                                                                                                                                                                                                                                                                                                                                                                                                                                                                                                                                                                                                                                                                                                                                                                                                                                                                                                                                                                                                                                                                                                                                                                                                                                                                                                                                                                                                                                                                                                                                                                                                                                                                                                                                                                                                                                                                                                                                                                                                                                                                                                                                                                                                                                                                                                                                                                                                                                                                                                                                                                                                                            0.494124\n",
      "Election Day: No Legal Pot In Ohio; Democrats Lose In The South\\n\\nTuesday is \"off year\" Election Day in parts of the country. Legalizing marijuana is on the ballot in Ohio, Houston voters will decide on an equal rights ordinance and San Francisco weighs short-term rentals in what's being called the \"Airbnb Initiative.\"\\n\\nElsewhere, eyes are on governor races in Kentucky and Louisiana, and whether Democrats can make any progress in the South.\\n\\nHere's a look at some of the races:\\n\\nHouston voters will decide whether to keep an equal rights ordinance that was approved by the City Council last year. The Houston Equal Rights Ordinance (HERO) would ban discrimination based on sexual orientation and gender identity — criteria not covered by national anti-discrimination laws. The ordinance is hotly debated, particularly after some opposition ads were released. The ads claim that the ordinance would allow men who identify as women to assault women and young girls in bathrooms.\\n\\nHillary Clinton tweeted her support for the ordinance on Oct. 29, writing: \"No one should face discrimination for who they are or who they love — I support efforts for Equality in Houston & beyond. #HERO #YesOnProp1 -H\".\\n\\nA White House spokesman said that President Obama and Vice President Biden were \"confident that the citizens of Houston will vote in favor of fairness and equality.\"\\n\\nUpdate from Houston Public Media: Houston's voters strongly rejected the anti-discrimination measure, with about three-fifths of voters opposed.\\n\\nRepublican Matt Bevin and Democrat Jack Conway are running to replace retiring Gov. Steve Beshear, a Democrat. Although Republicans have aggressively been spending money in the hope of retaining the governor's mansion, Conway has outspent Bevin 4 to 1. This race has been characterized by both candidates accusing each other of lying about their records.\\n\\nUpdate from WFPL in Louisville: Conway conceded the race — the returns late Tuesday night showed Bevin winning with about 53 percent of the vote — and Republicans generally performed well in the state.\\n\\nLouisiana has a gubernatorial election this year but it doesn't work the way you might expect. Louisiana's election system relies on what's called a \"jungle primary.\" In a jungle primary, all candidates regardless of party appear on one ballot. If no one wins 50 percent of the vote, the top two candidates face each other in a runoff election.\\n\\nJohn Bel Edwards, a Democrat and state legislative leader, earned roughly 40 percent of the vote. He now will face Sen. David Vitter, a Republican, in the runoff election on Nov. 21. Vitter has had a tough race so far. His critics have continuously cited his involvement in a 2007 prostitution scandal, in which Vitter's telephone number was found in the records of the so-called D.C. Madam, Deborah Palfrey. Palfrey was accused of running a prostitution ring that made more than $2 million over 13 years.\\n\\nThe \"Clean Elections Initiative\" would increase public funding for candidates to up to $3 million in order to make them more competitive against privately-funded candidates, according to Reuters. The existing law makes up to $2 million available to candidates for state office. The ballot measure would also increase disclosure requirements and increase the penalties for campaign finance violations.\\n\\nUpdate from the Portland Press Herald: The measure passed, with 55 percent of the vote as of late Tuesday:\\n\\nRepublican Gov. Phil Bryant is up for reelection and faces opposition from an unlikely candidate — truck driver and political unknown Robert Gray. According to The Associated Press, Gray didn't even tell his closest relatives that he had signed up to campaign for governor. Bryant has spent roughly $2.7 million this year and reportedly has $1.4 million in the bank. Gray has spent about $3,000 on his campaign in the past three months.\\n\\nUpdate from Mississippi Public Broadcasting: Gray will presumably be back on the road after losing, 67 percent to 32 percent.\\n\\nOhio voters vote on two ballot measures with constitutional amendments that could dramatically change marijuana laws in their state. Issue 3, as one of these two measures is called, would enable landowners or operators of 10 predetermined sites the right to grow commercial marijuana. That's in contradiction to the second measure, Issue 2, which would prohibit monopolies from being enshrined in the state constitution. If both measures pass, there's sure to be lots of confusion.\\n\\nUpdate from WCPN in Cleveland: Voters rejected legal and medical marijuana, with two-thirds voting against Issue 3; Issue 2, the measure rejecting the proposed marijuana oligopoly, was passing 54 percent to 46 percent.\\n\\nSan Franciscans heading to the polls Tuesday will get to vote on Proposition F, colloquially known as the \"Airbnb Initiative.\" The initiative is a ballot measure that would strengthen regulation on the short-term rental of houses and apartments. While Airbnb is likely the biggest company in that niche market, the Los Angeles Times points out that there are other vacation rental companies that would be affected. Right now, residents can rent out their apartment or home for 90 days in a year. Proposition F would limit that rental period to 75 days. The measure is viewed as an attempt to discourage people from taking units off the housing market and using them as short-term apartment rentals. San Francisco has an acute housing shortage.\\n\\nUpdate from KQED in San Francisco: Voters rejected the measure, Proposition F, 55 percent to 45 percent.\\n\\nSeattle voters will decide on a campaign finance measure that's being touted as a national model for campaign finance reform. Ballot initiative I-122, if passed, would create a public financing model in the city. Every resident would receive a $100 voucher to give to the candidate of their choosing. The measure would also limit election campaign contributions from entities receiving city contracts of $250,000 or more, or from people spending more than $5,000 on lobbying.\\n\\nUpdate from KUOW in Seattle: Voters overwhelmingly passed the measure, 60 percent to 40 percent.\\n\\nAll 140 seats of Virginia's General Assembly are up for election today. Republicans currently control the state Senate, 21 seats to 19. Expecting low turnout, both parties have been trying to drive their message home to voters. Republicans are expected to retain their majority in the GA. Democrats hope to take control of the state Senate.\\n\\nUpdate from the Richmond Times-Dispatch: Republicans have kept their majority in the Senate, and their strong control of the General Assembly.                                                                                                                                                                                                                                                                                                                                                                                                                                                                                                                                                                                                                                                                                                                                                                                                                                                                                                                                                          0.000250\n",
      "The Latest On Paris Attack: Manhunt Continues; Brothers Were On No-Fly List\\n\\nFrench authorities are still on the hunt for two brothers suspected in an attack against the headquarters of a satirical magazine in Paris that left 12 people dead.\\n\\nThe two chief suspects, named as Said and Chérif Kouachi, 34 and 32, remain at large. Investigators believe Said Kouachi traveled to Yemen in 2011 to receive weapons training with Al-Qaeda in the Arabian Peninsula, NPR's Dina Temple-Raston reports, citing U.S. officials who've been briefed on the case.\\n\\nBoth of the brothers have been on the U.S. no-fly list for years, U.S. officials tell NPR.\\n\\nNPR's Eleanor Beardsley reports that the French capital is on its highest alert level, and 800 soldiers and riot police have been called on to guard the city. Schoolchildren, Eleanor said, are being kept inside for recess.\\n\\nTo add to the tension, there was a shooting on Paris' southern edge that killed a police officer and wounded a street sweeper. Bernard Cazeneuve, France's Interior Minister, said those shootings had not been linked to the attack on Charlie Hebdo.\\n\\nOvernight, one of the three suspects, identified by French media as 18-year-old Mourad Hamyd, was reported to have turned himself in.\\n\\nCazeneuve said nine people had been detained in connection to the attack.\\n\\nLocal officials say mosques were targeted across the country late Wednesday and early today. There were no reports of injuries, and it's unclear if they are linked to the attack on Charlie Hebdo. But Cazeneuve said the country would not tolerate any attacks on places of worship.\\n\\nThis is a breaking news story. As often happens in situations like these, some information reported early may turn out to be inaccurate. We'll move quickly to correct the record and we'll only point to the best information we have at the time. Refresh this page for the latest.\\n\\nUpdate at 5:55 p.m. ET. Suspects Were On U.S. No-Fly List\\n\\nNPR has confirmed that both Cherif and Said Kouachi have been on the U.S. no-fly list for years. They're also in the central U.S. database of people who pose a known or potential terrorist threat, worldwide: the Terrorist Identities Datamart Environment.\\n\\nUpdate at 3:15 p.m. ET. Eiffel Tower Goes Dark\\n\\nIn honor of the victims of Wednesday's attack, the Eiffel Tower turned off its lights. The mayor of Paris, Anne Hidalgo, tweeted a series of images showing the famous landmark going dark.\\n\\nUpdate at 1:03 p.m. ET. No Link:\\n\\nBernard Cazeneuve, France's Interior Minister, said authorities had not found a link between today's shootings and the attack on Charlie Hebdo.\\n\\n— Police found Said Kouachi's ID in a car used by the men to get away. As soon as they learned that name, police launched a manhunt and searched the home of the Kouachi brothers.\\n\\n— Nine people are presently in custody in connection with the attack.\\n\\n— Two people who looked like suspects were seen in Villers-Cotterêts, where police launched an intense search near a gas station.\\n\\n— Police have heard from more than 90 witnesses and are reviewing Internet use and surveillance to try to find the two men.\\n\\n— Cazeneuve said Said Kouachi had never been accused or convicted of a crime like his brother but had surfaced at the \"periphery of some investigations.\"\\n\\nUpdate at 12:36 p.m. ET. Dusk In Paris:\\n\\nThe sun has now set in Paris, reporter Lauren Frayer tells our Newscast unit.\\n\\nShe's at the Place de la République, where she says for the second night in a row people are streaming in for an impromptu vigil.\\n\\nLauren reports that the city only came to a halt at noon today for a moment of silence. But even though there is man hunt ongoing, Parisians have gone about their business: shops and restaurants are open and the metro is running.\\n\\nAsteris Masouras, a freelance journalist in Paris, has been tweeting from the scene — pictures of demonstrators carrying posters that read Je Suis Charlie and others leaving candles at the foot of the statue in the center of the square.\\n\\nMasouras also tweeted a video that shows the crowd whispering La Marseillaise, France's national anthem.\\n\\nFrance's Interior Ministry says that more than 88,000 personnel have deployed across France to help with security after the attacks.\\n\\nIn the Paris district alone, 9,650 personnel were deployed, including more than 1,000 military personnel.\\n\\nUpdate at 10:16 a.m. ET. The Younger Suspect's Name:\\n\\nThere is some variance in the way the name of the third suspect in this case is being reported. For now, based on reporting by the AFP and other French outlets who have spoken to classmates, we will call the suspect Mourad Hamyd.\\n\\nEarlier, we had named him as Hamyd Mourad.\\n\\nUpdate at 9:44 a.m. ET. 'Stupidity Will Not Win':\\n\\nUpdate at 7:19 a.m. ET. Not Linking Suspects To Terrorist Groups:\\n\\nCounterterrorism officials have been careful not to link the two main suspects to terrorist groups, NPR's Dina Temple-Raston tells our Newscast Unit.\\n\\nOne of the men, Chérif Kouachi, was convicted on terrorism charges in 2008. He served 18 months for helping to funnel fighters from France to Iraq.\\n\\nWhat's unclear, said Dina, is what happened to Kouachi after that. It's unclear whether he has ever traveled to Syria and it's unclear whether he has developed links to terrorist groups — including the Islamic State — since 2008.\\n\\nJudging by the shot patterns left on a police cruiser yesterday, what is clear is that the two suspects were very comfortable using high-powered weapons. It's likely, Dina said, that they received some military training. The question is where.\\n\\nUpdate at 6:44 a.m. ET. Roads Shut Down:\\n\\nNPR's Eleanor Beardsley reports that police have shut down all roads in and out of Paris.                                                                                                                                                                                                                                                                                                                                                                                                                                                                                                                                                                                                                                                                                                                                                                                                                                                                                                                                                                                                                                                                                                                                                                                                                                                                                                                                                                                                                                                                                                                                                                                                                                                                                                                                                                                                                                                                                  0.000250\n",
      "Jesse Matthew Jr., a former hospital worker, was indicted Monday on a count of first-degree murder in the abduction and killing of Hannah Graham, a University of Virginia student, who was missing for weeks before her body was discovered, law enforcement officials said Tuesday.\\n\\nAlbemarle County prosecutor Denise Lunsford said that the state will not seek the death penalty, and that Graham's family has been informed about the state's decision.\\n\\nLunsford declined to say why Matthew was not charged with the higher count of capital murder. The abduction and first-degree murder charges are punishable by up to life in prison. Matthew, 33, was already charged with abduction with intent to defile the 18-year-old.\\n\\nPolice have said forensic evidence also links Matthew to the 2009 disappearance and death of 20-year-old Virginia Tech student Morgan Harrington, whose body also was found in the county. Lunsford said \"there are no pending charges\" against Matthew in the Harrington case.\\n\\n\"The simple fact is the case involving Hannah Graham was ready to be charged first,\" she said.\\n\\nGraham vanished after a night out with friends Sept. 12. According to police, she left an off-campus party alone and texted a friend saying she was lost.\\n\\nIn surveillance video, she can be seen walking unsteadily and even running at times, past a pub and a service station and then onto a seven-block strip of bars, restaurants and shops. Another video captured her leaving a restaurant with Matthew, who had an arm around her.\\n\\nGraham's disappearance prompted a month-long search involving thousands of volunteers as well as police. It ended when searchers found her remains Oct. 18 in rural Albemarle County, roughly six miles from the hayfield where Harrington's body was found in January 2010.\\n\\nHarrington disappeared while attending a Metallica concert at U.Va in October 2009. Her T-shirt was later found on a nearby tree limb.\\n\\nAfter police named Matthew a person of interest in Graham's disappearance, he fled and was later apprehended on a beach in Texas. He was charged with abduction with intent to defile, a felony that empowered police to swab his cheek for a DNA sample. That sample connected Matthew to a 2005 sexual assault in Fairfax County, according to authorities. He has pleaded not guilty in that case.\\n\\nThe DNA evidence in the Fairfax sexual assault, in turn, linked Matthew to the Harrington case.\\n\\nMatthew previously had been accused of raping students at Liberty University and Christopher Newport University in 2002 an  2003. Matthew had played football at both schools. The cases were dropped after the women declined to press charges.\\n\\nMatthew's first court appearance on the newest charges in the Harrington case is scheduled for Feb. 18, Lunsford said. He will appear by video link from Fairfax County, where he is in jail awaiting trial in the 2005 rape case.\\n\\nThe Associated Press contributed to this report                                                                                                                                                                                                                                                                                                                                                                                                                                                                                                                                                                                                                                                                                                                                                                                                                                                                                                                                                                                                                                                                                                                                                                                                                                                                                                                                                                                                                                                                                                                                                                                                                                                                                                                                                                                                                                                                                                                                                                                                                                                                                                                                                                                                                                                                                                                                                                                                                                                                                                                                                                                                                                                                                                                                                                                                                                                                                                                                                                                                                                                                                                                                                                                                                                                                                                                                                                                                                                                                                                                                                                                                                                                                                                                                                                                                                                                                                                                                                                                                                                                                                                                                                                                                                                                                                                                                                                                                                                                                                                                                                                                                                                                                                                                                                                                                                         0.000250\n",
      "Before he got to repealing ObamaCare, before he got to dumping Common Core, before he got to abolishing the IRS, Ted Cruz talked about Jesus.\\n\\nIn kicking off his presidential campaign Monday at Liberty University, Cruz began with his father, a Cuban immigrant who washed dishes in Texas for 50 cents an hour, who drank too much along with his wife, who left home when Ted was 3 but came back because “God transformed his heart … Were it not for the transformative love of Jesus Christ, I would have been raised by a single mom.”\\n\\nThat introduction, part of a passionate speech delivered without notes in Lynchburg, Va., helps explain why many in the mainstream media don’t quite know what to make of the Texas senator — or view him as a fringe figure.\\n\\nOn the “Today” show, Kelly O’Donnell said “he’s 44, only been on the national scene a couple of years.” MSNBC’s Jonathan Alter, while not counting him out, also said “he’s only been in the Senate for two years.”\\n\\nPerhaps they had forgotten that Barack Obama was 45 and had spent just two years in the Senate when he kicked off his presidential candidacy?\\n\\nCruz is a hero to the Tea Party right, and his speech hit many of its themes: against same-sex marriage, protecting the right to bear arms, reclaiming the Constitution. But the very things that make him popular could, in the media’s telling, be campaign obstacles.\\n\\n“Cruz's down-the-line appeal to the GOP base may prove to be his calling card in the primary battle to come, but it's also led him to pick fights with the party brass that could ultimately undermine his candidacy. His ability to raise money, secure endorsements, and build the kind of infrastructure necessary to win a national primary may be hampered by his lack of support among the establishment. And his ideological rigidity has sown doubts among some Republicans about how competitive Cruz would be in a general election.”\\n\\nIn the two-minute NBC report, there were sound bites of Cruz reading “Green Eggs and Ham” (from his 21-hour filibuster that preceded the government shutdown) and warning “the world is on fire” (prompting a question from a 3-year-old girl).\\n\\nI wrote last week that the many in the MSM went way overboard in using that incident to portray Cruz as a frightening figure, despite the fact that the girl’s mother said she wasn’t scared at all.\\n\\nLook at how the Huffington Post frames its setup piece for the Cruz kickoff:\\n\\n“Much of the rest of the country (including Republican leaders in Congress) viewed Cruz as a vaguely scary renegade, and the GOP establishment’s official grumpy grandpa, Sen. John McCain (Ariz.), dismissed him as a ‘wacko bird.’\\n\\n\"But the Young Americans for Liberty loved his loathing of the party elders, and his determination to shove a stick between the spokes of the System …\\n\\n“Uncorked anger doesn’t usually win presidential nominations, let alone presidencies. People want hope and uplift in the White House and not just expressions of outrage. The president is the person who is supposed to make things work. To some, the 44-year-old Cruz gives off a vaguely scary aura of cheerful menace.”\\n\\nUncorked anger. Cheerful menace. You might get the impression that HuffPost just doesn’t like the guy.\\n\\nAnd this happens to reflect the line of the Democratic Party, which in an email calls Cruz, in bold letters, “really, really scary.”\\n\\nPolitico also emphasizes the theme that Cruz ticks people off:\\n\\n“His own colleagues in Washington have frequently been disdainful of Cruz since he helped instigate the 2013 government shutdown. And his hardline views and uncompromising style have disqualified him even in the eyes of more conservative elements of the political class who are concerned about electability.\\n\\n“But Cruz is embracing that outsider status, just as he did in Texas, where in 2012 he beat out the presumed Republican Senate nominee, former Lt. Gov. David Dewhurst, and became a hero to that conservative state’s tea party.”\\n\\nThe Washington Post says this is one of five things you need to know about the senator:\\n\\n“Cruz's often tells the story of his father, Rafael -- also the senator's given name -- leaving Cuba as a young man with $100 sewn into his underwear. Rafael Cruz, an evangelical pastor, has a history of making headline-grabbing statements. They include telling an audience that President Obama should be sent ‘back to Kenya,’ asserting that the Bible ‘tells you exactly who to vote for.’”\\n\\nSo his dad’s an issue too.\\n\\nSlate says that Cruz spouts “bizarre nonsense” on climate change:\\n\\n“In case you haven’t heard, Sen. Ted Cruz (R-Texas) is not a fan of reality.\\n\\n“The reality of science, that is. He has a history of saying global warming–denying talking points and used some of his political power just this past week to pressure NASA into downplaying its role in measuring the effects of global warming on the planet.”\\n\\nJust for good measure, \"Morning Joe\" panelist Donny Deutsch likened Cruz to Sarah Palin.\\n\\nMy take is that the mainstream media always gravitate toward establishment candidates, in part because these politicians excel at fundraising and endorsements, which journalists highly value. That’s why the media consistently underestimate such insurgent candidates as Mike Huckabee and Rick Santorum before they catch fire.\\n\\nBut recent history suggests that the establishment Republican prevails in the end: Mitt Romney, John McCain, George W. Bush, Bob Dole. The question for 2016, up against Hillary, is whether this time could be different.\\n\\nHow about a conservative view? Here’s Allahpundit on Hot Air:\\n\\n“The problem with finding a path for Cruz next year, though, is that as the field narrows and losers drop out, the primaries inevitability become a referendum on electability and acceptability. I can see Walker stumbling; I can see Jeb flaming out from voters’ Bush fatigue; I can see Paul stuck at 20 percent, unable to add to his libertarian base; and I can see Rubio never quite contending because he can’t scrape the votes he needs from the center and right. What I can’t see is all of those things happening, and realistically, they’d all have to happen to make Cruz the nominee.”\\n\\nIt’s a crowded field, to be sure. The thing that brought Cruz national fame was the filibuster and his leading role in the 2013 shutdown. To his supporters, Cruz was fighting for conservative principles against ObamaCare. To his critics, Cruz was pursuing a kamikaze strategy that could never have succeeded because the Democrats controlled the White House and the Senate.\\n\\nThe coming campaign will be a test of whether Cruz can break out beyond his evangelical base. But it will also be a test of the media establishment that views him mainly as a bomb-thrower.\\n\\nHoward Kurtz is a Fox News analyst and the host of \"MediaBuzz\" (Sundays 11 a.m. and 5 p.m. ET). He is the author of five books and is based in Washington. Follow him at @HowardKurtz. Click here for more information on Howard Kurtz.                                                                                                                                                                                                                                                                                                                                                                                                                                                                                                                                                                                         0.000250\n",
      "Who rode it best? Jesse Jackson mounts up to fight pipeline; Leonardo DiCaprio to the rescue? Posted at 6:41 pm on October 26, 2016 by Brett T. Share on Facebook Share on Twitter \\nVladimir Putin might have popularized the shirtless-on-horseback calendar pose that was echoed recently by Alex Jones , but Jesse Jackson deserves credit for at least one thing: he chose to keep his shirt on Wednesday when he rode up to the front lines of a protest against the Dakota Access Pipeline. \\n— Marisa Villarreal (@marisa_villarr) October 26, 2016 Proud to stand with the Sioux Indians today in North Dakota. #StandingWithStandingRock pic.twitter.com/0dPbDk6RJD \\n— Rev Jesse Jackson Sr (@RevJJackson) October 26, 2016 Jesse Jackson on the frontline with that native bling #NoDAPL pic.twitter.com/QevCYFugN3 \\n— Ruth Hopkins (@RuthHHopkins) October 26, 2016 \\nSeen standing with Jackson (literally; check over his shoulder above) was “Avengers” actor Mark Ruffalo, who offered his own exclusive scoop of sorts by confirming that climate crusader Leonardo DiCaprio would be stopping by Thursday, assuming his green-friendly private jet that runs on unicorn tears isn’t delayed. This is happening! #noDapl ! Rev. Jesse Jackson calls @POTUS from #StandingRock ! Mark Ruffalo confirms Leonardo DiCaprio comes tomorrow pic.twitter.com/6b2Gd8FFpd \\n— Asani Isapoet (@Asani) October 26, 2016 \\nPresident Obama seems to be taking a wait-and-see approach to the pipeline. The Seattle Times reports that the administration asked Energy Transfer Partners for a second time Tuesday to voluntarily cease construction, to no avail. And Hillary? No one’s even sure yet where she really stands on the Trans-Pacific Partnership, but a few of Ruffalo’s fans aren’t happy that he’s now with her, sort of. Please please please. This is is worth getting out and voting for. A vote for HRC is a vote for @BernieSanders and @SenWarren ! https://t.co/9YElwJ48AJ \\n— Mark Ruffalo (@MarkRuffalo) October 16, 2016 @MarkRuffalo @BernieSanders @SenWarren It most certainly is not. That's propaganda Clinton stans like to push. I vote for who I believe in. \\n— Stan Dallas 😍 (@FanInTheMoon) October 16, 2016 @MarkRuffalo @BernieSanders @SenWarren I don't recall Sanders being pro TPP, pro fracking and circling China with missiles. Lay off the weed \\n— Tony Gagliardi (@hornetgags) October 16, 2016 @MarkRuffalo @BernieSanders @SenWarren @1lolamarina Sorry Mark, never was a turn the other cheek kind of guy. She wronged us. Never Democrat \\n— John Jenkins (@Oteachjohn) October 18, 2016 @MarkRuffalo @BernieSanders @SenWarren NO. A vote for HRC is a for #ElectionFraud , corporate rule, corruption & endless war. #NeverHillary \\n— Basement Barista (@SouthBoulder) October 16, 2016 @MarkRuffalo @dailykos So vote for Hillary who is a pro-fracking warhawk? Time to get the @GreenPartyUS 5% for a true progressive voice. \\n— Eric Magnuson (@emmagnuson) October 17, 2016 . @MarkRuffalo Jill Stein's PROGRESSIVE policies are more like Bernie than HRC's. Why should Hillary get my vote? #JillNotHill 🌍💚☮️ \\n— #DNC fraud lawsuit (@Ontheotherhand) October 16, 2016 @MarkRuffalo @BernieSanders @SenWarren A vote for HRC is NOT a vote for Bernie Sanders. Go Green. Vote Stein, not a corrupt warmonger. \\n— Justin Kelly (@JKelly_80) October 16, 2016 \\n* * *                                                                                                                                                                                                                                                                                                                                                                                                                                                                                                                                                                                                                                                                                                                                                                                                                                                                                                                                                                                                                                                                                                                                                                                                                                                                                                                                                                                                                                                                                                                                                                                                                                                                                                                                                                                                                                                                                                                                                                                                                                                                                                                                                                                                                                                                                                                                                                                                                                                                                                                                                                                                                                                                                                                                                                                                                                                                                                                                                                                                                                                                                                                                                                                                                                                                                                                                                                                                                                                                                                                                                                                                                                                                                                                                                                                                                                                                                                                                                                                                                                                                                                                                                                                                                                                                                                                                                                                                                                                   0.000250\n",
      "A member of Al Qaeda's branch in Yemen said Friday that the group directed the massacre earlier this week at a Paris magazine, as the U.S. State Department issued a travel warning to citizens, saying they faced an increased risk of reprisals.\\n\\nEarlier Friday, near simultaneous raids by French police killed the two Islamist brothers behind the attack and another terrorist. The raids, conducted at locations 25 miles apart, took out Cherif and Said Kouachi and a suspect in a policewoman's killing who had seized hostages at a Paris grocery on the brothers' behalf, but also left four hostages dead, according to authorities and reports from the scene.\\n\\nThe Al Qaeda member on Friday provided a statement in English to The Associated Press saying \"the leadership of AQAP directed the operations and they have chosen their target carefully.\"\\n\\nThere was no independent confirmation of the report, and U.S. intelligence and counterterrorism officials say it is too early to conclude who is responsible for the massacre on Wednesday that left 12 dead.\\n\\nHowever, Cherif Kouachi told a French TV station before Friday's raid at an industrial park that he was sent by Al Qaeda in Yemen and had been financed by the cleric Anwar al-Awlaki, who was killed by a U.S. airstrike in Yemen in 2011.\\n\\nThe State Department's warning says attacks against Americans are becoming increasingly prevalent. It also cites an increased risk of reprisals against U.S. and Western targets for the U.S.-led intervention against Islamic State militants in Syria and Iraq, and comes in the aftermath of terrorist attacks in Australia and Canada, as well as the Paris massacre.\\n\\nIf confirmed, the attack would be the first time Al Qaeda's branch in Yemen has successfully carried out an operation in the West after at least two earlier attempts.\\n\\nThe Al Qaeda member said the attack was in line with warnings from the late Al Qaeda leader Usama bin Laden to the West about \"the consequences of the persistence in the blasphemy against Muslim sanctities,\" adding that it was \"revenge for the honor\" of Islam's Prophet Muhammad, which the satirical Charlie Hebdo had occasionally lampooned.\\n\\nThe lightning-quick strikes earlier Friday ended two tense, hours-long standoffs, one at a printing plant north of the city and the other at a kosher supermarket on Paris' east side, where four hostages were killed, as many as 15 were freed. A hostage held north of the city by the brothers, who killed 12 in a commando-style attack at the offices of Charlie Hebdo, was reportedly freed. The fast-moving developments, signaled by explosions and gunfire at a printing plant in Dammartin-en-Goele, followed by similar sounds at Hypercacher (Hyper Kosher), a Jewish supermarket in eastern Paris, brought to a climax a three-day terror ordeal and manhunt involving nearly 90,000 police and military personnel.\\n\\nThe Kouachi brothers, the radicalized French-born slackers whose attack on Charlie Hebdo left two police officers among the dozen dead, were both killed in the first raid. The brothers, 32 and 34, respectively, are believed to have ties to Al Qaeda in Yemen, and military experts who viewed footage of their bloody, late-morning raid on Wednesday said they appeared to be well-trained terrorists. Charlie Hebdo had long angered Muslim radicals with its penchant for publishing cartoon images of Prophet Muhammed.\\n\\nIn Paris, police said Amedy Coulibaly, who is believed to have know the brothers and was suspected of killing Paris Police Officer Clarissa Jean-Philippe Thursday, as she attended to a routine traffic accident in the city, was killed in a raid moments later, ending his supermarket siege. Police had identified him and his longtime girlfriend, Hayat Boumeddiene, as suspects in the police killing, but her whereabouts were not immediately known. Police were searching for another possible suspect who may have escaped the grocery store siege, but it was not clear if that person was Boumeddiene.\\n\\nAt the kosher grocery near the Porte de Vincennes neighborhood of the capital, the gunman burst in shooting just a few hours before the Jewish Sabbath began, declaring \"You know who I am,\" an official recounted.\\n\\nThe attack came before sundown when the store would have been crowded with shoppers, and President Francois Hollande called it \"a terrifying anti-Semitic act.\"\\n\\nCoulibaly killed the four people in the market shortly after entering, Molins said.\\n\\nSeveral people wounded in the grocery store were able to flee and get medical care, the official said.\\n\\nCoulibaly, 33, and Cherif Kouachi were committed followers of convicted terror kingpin Djamel Beghal, according to Le Monde.\\n\\nEarlier Friday, a French security official told the AP that shots were fired as the brothers stole a car in the town of Montagny Sainte Felicite in the early morning hours. French officials told Fox News that the suspects threw the car's driver out at the side of the road. The driver, who recognized the suspects, then called police and alerted them to the suspects' whereabouts.\\n\\nOn Thursday, U.S. government sources confirmed that Said Kouachi, 34, had traveled to Yemen in 2011 and had direct contact with an Al Qaeda training camp. The other brother, 32-year-old Cherif, had been convicted in France of terrorism charges in 2008 for trying to join up with fighters battling in Iraq. The sources also confirmed that both brothers, who had been orphaned as youngsters and spent years committing petty crimes and doing menial jobs, were on a U.S. no-fly list.\\n\\nFox News was told the investigators have made it a priority to determine whether he had contact with Al Qaeda in Yemen's leadership, including a bomb maker and a former Guantanamo Bay detainee.\\n\\nHollande called for tolerance after the country's worst terrorist attack since 1961, in the middle of the conflict over Algerian independence from France.\\n\\n\"France has been struck directly in the heart of its capital, in a place where the spirit of liberty -- and thus of resistance -- breathed freely,\" Hollande said.\\n\\nCharlie Hebdo had long drawn threats for its depictions of Islam, although it also satirized other religions and political figures. The weekly paper had caricatured the Prophet Muhammad, and a sketch of Islamic State's leader was the last tweet sent out by the irreverent newspaper, minutes before the attack. Nothing has been tweeted since.\\n\\nEight journalists, two police officers, a maintenance worker and a visitor were killed in the attack.\\n\\nCharlie Hebdo planned a special edition next week, produced in the offices of another paper. Editor Stephane Charbonnier, known as Charb, who was among those slain, \"symbolized secularism ... the combat against fundamentalism,\" his companion, Jeannette Bougrab, said on BFM-TV.\\n\\n\"He was ready to die for his ideas,\" she said.\\n\\nAuthorities around Europe have warned of the threat posed by the return of Western jihadis trained in warfare. France counts at least 1,200 citizens in the war zone in Syria -- headed there, returned or dead. Both the Islamic State group and Al Qaeda have threatened France -- home to Western Europe's largest Muslim population.\\n\\nThe French suspect in a deadly 2014 attack on a Jewish museum in Belgium had returned from fighting with extremists in Syria; and the man who rampaged in southern France in 2012, killing three soldiers and four people at a Jewish school, received paramilitary training in Pakistan.\\n\\nFox News' Greg Palkot, Catherine Herridge and The Associated Press contributed to this report.    0.000250\n",
      "A new national poll shows Vice President Biden faring better than Hillary Clinton in match-ups against top Republican presidential candidates, as the VP weighs jumping into the race -- and meets Thursday with a top labor leader.\\n\\nFox News has learned that Biden is meeting later in the day with AFL-CIO President Richard Trumka. This comes after he met last weekend with liberal icon, Massachusetts Sen. Elizabeth Warren.\\n\\nHe's making the rounds amid a flurry of polls showing Clinton potentially vulnerable. The latest Quinnipiac University National Poll shows Clinton polling better than Biden – who is not a declared candidate – in the Democratic primary race. But the poll gives Biden the slight edge when squared against leading GOP contenders.\\n\\n\"Note to Biden: They like you, they really like you, or they like you more than the others,” Tim Malloy, assistant director of the Quinnipiac University Poll, said in a statement.\\n\\nThe poll shows Biden leading Republican front-runner Donald Trump, 48-40 percent. He also leads former Florida Gov. Jeb Bush, 45-39 percent.\\n\\nThe former secretary of state also edges those candidates, but not by as much. She leads Trump 45-41 percent; she leads Bush 42-40 percent.\\n\\nBoth candidates narrowly lead Florida Sen. Marco Rubio. The survey comes on the heels of another showing Biden running strong in head-to-head match-ups against Republicans in key swing states.\\n\\nBiden continues to weigh a potential bid, as Clinton struggles with the controversy over her personal email and server, and faces eroding poll numbers. The Quinnipiac poll showed her with her worst favorability rating yet – with only 39 percent holding a favorable view of her, compared with 51 percent who don’t.\\n\\nClinton weighed in on the Biden rumors Wednesday, saying in Iowa that, “He should have the space and the opportunity to decide what he wants to do.”\\n\\n“I’m going to be running for president regardless,” she added.\\n\\nThe Quinnipiac poll of 1,563 registered voters was conducted Aug. 20-25. It has a margin of error of 2.5 percentage points.                                                                                                                                                                                                                                                                                                                                                                                                                                                                                                                                                                                                                                                                                                                                                                                                                                                                                                                                                                                                                                                                                                                                                                                                                                                                                                                                                                                                                                                                                                                                                                                                                                                                                                                                                                                                                                                                                                                                                                                                                                                                                                                                                                                                                                                                                                                                                                                                                                                                                                                                                                                                                                                                                                                                                                                                                                                                                                                                                                                                                                                                                                                                                                                                                                                                                                                                                                                                                                                                                                                                                                                                                                                                                                                                                                                                                                                                                                                                                                                                                                                                                                                                                                                                                                                                                                                                                                                                                                                                                                                                                                                                                                                                                                                                                                                                                                                                                                                                                                                                                                                                                                                                                                                                                                                                                                                                                                                                                                                                                                                                                                                                                                                                                                                               0.000250\n",
      "Islamic State militants have acknowledged for the first time that they have been defeated in the Syrian town of Kobani, blaming withering airstrikes by a U.S.-led coalition for forcing them to flee the town on the Turkish border.\\n\\nAlthough not a strategic site itself, Kobani — known by the militants as Ayn al-Islam — had turned into a test of wills between the militants and the coalition. At one point, Islamic State fighters controlled almost all of the town of 45,000 people and were on the verge of capturing it outright.\\n\\nIn a video released late Friday by the pro-Islamic State Aamaq News Agency, two fighters made it clear that the coalition's relentless air assault proved too much for the militants.\\n\\n\"A while ago, we retreated a bit from Ayn al-Islam because of the bombardment and the killing of some brothers,\" said one masked fighter who spoke Arabic with a North African accent.\\n\\nIn the video, he vowed to return to drive out the People's Protection Units known as the YPG, the main Kurdish militia in Syria, that the fighter referred to as \"rats.\"\\n\\n\"The Islamic State will stay. Say that to (President) Obama,\" he said, pointing toward destruction on the edge of Kobani.\\n\\nA second fighter, standing on a road with a green sign sprayed with the name Ayn al-Islam, described the incessant pounding by coalition aircraft.\\n\\n\"I swear by God, their planes did not leave the air, day and night; they did airstrikes all day and night,\" he said on the video. \"They bombarded everything, even motorcycles; they have not left a building standing. But, God willing, we will return and we will have our revenge multiplied.\"\\n\\nSpeaking at a meeting with his Mexican and Canadian counterparts in Boston on Saturday, Secretary of State John Kerry said recapturing Kobani was a \"big deal,\" AFP reported.\\n\\n\"We have a long way to go in the overall campaign, but Daesh — ISIL as some know it — has said all along that Kobani was a real symbolic and strategic objective,\" Kerry said. \"So pushing them out of there is a big deal. And make no mistake, we will also use the same tools that we used to get there — the tools of cooperation and support — to defeat violent, transnational criminal organizations, and ensure that the rule of law thrives for all of our people.\"\\n\\nThe Islamic State launched its offensive on the region surrounding Kobani in mid-September, capturing more than 300 Kurdish villages and parts of the city while driving out more than 200,000 Kurds.\\n\\nThe United States and several Arab allies began striking back and providing air cover for Kurdish militia to pour in from Turkey. The overall allied campaign aims to roll back the Islamic State militants who have taken over about a third of Iraq and Syria and declared the captured territory a new caliphate.\\n\\nAs a result of the airstrikes and stiff resistance from the Kurds, the Islamic State — also known as ISIL or ISIS — began retreating a few weeks ago and lost more than 1,000 fighters, according to the London-based Syrian Observatory for Human Rights, which monitors deaths in the Syrian civil war.\\n\\nIn the last days of the fight, activists reported that the militant group was sending inexperienced fighters and teenagers to the front line because of a lack of recruits, the human rights group said. By Monday, activists and Kurdish officials reported the town was almost cleared of the militants.\\n\\nThe four-month battle for Kobani, which was pummeled by airstrikes, mutual shelling and booby-trapped vehicles, left large parts of the town city uninhabitable, the Syrian Observatory for Human Rights said.\\n\\n\"It's not a city anymore,\" Bulent Kilic a Turkish photojournalist for the AFP news agency told Time. \"I saw all the bombs that were dropped on Kobani during this battle. And there's only debris left, especially in the eastern part of the town from where ISIS tried to get in.\"                                                                                                                                                                                                                                                                                                                                                                                                                                                                                                                                                                                                                                                                                                                                                                                                                                                                                                                                                                                                                                                                                                                                                                                                                                                                                                                                                                                                                                                                                                                                                                                                                                                                                                                                                                                                                                                                                                                                                                                                                                                                                                                                                                                                                                                                                                                                                                                                                                                                                                                                                                                                                                                                                                                                                                                                                                                                                                                                                                                                                                                                                                                                                                                                                                                                                                                                                                                                                                                                                                                                                                                                                                                                                                                                                                                                                                                0.000250\n",
      "Name: label, dtype: float64\n"
     ]
    }
   ],
   "source": [
    "inspect = train_data[\"label\"].value_counts()/len(train_data)\n",
    "print(inspect.head(10))"
   ]
  },
  {
   "cell_type": "code",
   "execution_count": 43,
   "metadata": {},
   "outputs": [
    {
     "data": {
      "text/plain": [
       "(1990, 7)"
      ]
     },
     "execution_count": 43,
     "metadata": {},
     "output_type": "execute_result"
    }
   ],
   "source": [
    "df_REAL = train_data[train_data.label == 'REAL']\n",
    "df_REAL.shape"
   ]
  },
  {
   "cell_type": "code",
   "execution_count": 44,
   "metadata": {},
   "outputs": [
    {
     "data": {
      "text/plain": [
       "(1976, 7)"
      ]
     },
     "execution_count": 44,
     "metadata": {},
     "output_type": "execute_result"
    }
   ],
   "source": [
    "df_FAKE = train_data[train_data.label == 'FAKE']\n",
    "df_FAKE.shape"
   ]
  },
  {
   "cell_type": "code",
   "execution_count": 53,
   "metadata": {},
   "outputs": [
    {
     "data": {
      "text/plain": [
       "(3966, 7)"
      ]
     },
     "execution_count": 53,
     "metadata": {},
     "output_type": "execute_result"
    }
   ],
   "source": [
    "train_data = pd.concat([df_REAL, df_FAKE], axis=0)\n",
    "\n",
    "train_data.shape"
   ]
  },
  {
   "cell_type": "markdown",
   "metadata": {},
   "source": [
    "## Data Preparation"
   ]
  },
  {
   "cell_type": "code",
   "execution_count": 54,
   "metadata": {},
   "outputs": [],
   "source": [
    "stemmer = PorterStemmer()\n",
    "words = stopwords.words(\"english\")\n",
    "train_data['cleaned'] = train_data['text'].apply(lambda x: \" \".join([stemmer.stem(i) for i in re.sub(\"[^a-zA-Z]\", \" \", x).split() if i not in words]).lower())"
   ]
  },
  {
   "cell_type": "code",
   "execution_count": 27,
   "metadata": {},
   "outputs": [
    {
     "data": {
      "text/html": [
       "<div>\n",
       "<style scoped>\n",
       "    .dataframe tbody tr th:only-of-type {\n",
       "        vertical-align: middle;\n",
       "    }\n",
       "\n",
       "    .dataframe tbody tr th {\n",
       "        vertical-align: top;\n",
       "    }\n",
       "\n",
       "    .dataframe thead th {\n",
       "        text-align: right;\n",
       "    }\n",
       "</style>\n",
       "<table border=\"1\" class=\"dataframe\">\n",
       "  <thead>\n",
       "    <tr style=\"text-align: right;\">\n",
       "      <th></th>\n",
       "      <th>ID</th>\n",
       "      <th>title</th>\n",
       "      <th>text</th>\n",
       "      <th>label</th>\n",
       "      <th>X1</th>\n",
       "      <th>X2</th>\n",
       "      <th>cleaned</th>\n",
       "    </tr>\n",
       "  </thead>\n",
       "  <tbody>\n",
       "    <tr>\n",
       "      <th>0</th>\n",
       "      <td>8476</td>\n",
       "      <td>You Can Smell Hillary’s Fear</td>\n",
       "      <td>Daniel Greenfield, a Shillman Journalism Fello...</td>\n",
       "      <td>FAKE</td>\n",
       "      <td>NaN</td>\n",
       "      <td>NaN</td>\n",
       "      <td>daniel greenfield shillman journal fellow free...</td>\n",
       "    </tr>\n",
       "    <tr>\n",
       "      <th>1</th>\n",
       "      <td>10294</td>\n",
       "      <td>Watch The Exact Moment Paul Ryan Committed Pol...</td>\n",
       "      <td>Google Pinterest Digg Linkedin Reddit Stumbleu...</td>\n",
       "      <td>FAKE</td>\n",
       "      <td>NaN</td>\n",
       "      <td>NaN</td>\n",
       "      <td>googl pinterest digg linkedin reddit stumbleup...</td>\n",
       "    </tr>\n",
       "    <tr>\n",
       "      <th>2</th>\n",
       "      <td>3608</td>\n",
       "      <td>Kerry to go to Paris in gesture of sympathy</td>\n",
       "      <td>U.S. Secretary of State John F. Kerry said Mon...</td>\n",
       "      <td>REAL</td>\n",
       "      <td>NaN</td>\n",
       "      <td>NaN</td>\n",
       "      <td>u s secretari state john f kerri said monday s...</td>\n",
       "    </tr>\n",
       "    <tr>\n",
       "      <th>3</th>\n",
       "      <td>10142</td>\n",
       "      <td>Bernie supporters on Twitter erupt in anger ag...</td>\n",
       "      <td>— Kaydee King (@KaydeeKing) November 9, 2016 T...</td>\n",
       "      <td>FAKE</td>\n",
       "      <td>NaN</td>\n",
       "      <td>NaN</td>\n",
       "      <td>kayde king kaydeek novemb the lesson tonight d...</td>\n",
       "    </tr>\n",
       "    <tr>\n",
       "      <th>4</th>\n",
       "      <td>875</td>\n",
       "      <td>The Battle of New York: Why This Primary Matters</td>\n",
       "      <td>It's primary day in New York and front-runners...</td>\n",
       "      <td>REAL</td>\n",
       "      <td>NaN</td>\n",
       "      <td>NaN</td>\n",
       "      <td>it primari day new york front runner hillari c...</td>\n",
       "    </tr>\n",
       "  </tbody>\n",
       "</table>\n",
       "</div>"
      ],
      "text/plain": [
       "      ID                                              title  \\\n",
       "0   8476                       You Can Smell Hillary’s Fear   \n",
       "1  10294  Watch The Exact Moment Paul Ryan Committed Pol...   \n",
       "2   3608        Kerry to go to Paris in gesture of sympathy   \n",
       "3  10142  Bernie supporters on Twitter erupt in anger ag...   \n",
       "4    875   The Battle of New York: Why This Primary Matters   \n",
       "\n",
       "                                                text label   X1   X2  \\\n",
       "0  Daniel Greenfield, a Shillman Journalism Fello...  FAKE  NaN  NaN   \n",
       "1  Google Pinterest Digg Linkedin Reddit Stumbleu...  FAKE  NaN  NaN   \n",
       "2  U.S. Secretary of State John F. Kerry said Mon...  REAL  NaN  NaN   \n",
       "3  — Kaydee King (@KaydeeKing) November 9, 2016 T...  FAKE  NaN  NaN   \n",
       "4  It's primary day in New York and front-runners...  REAL  NaN  NaN   \n",
       "\n",
       "                                             cleaned  \n",
       "0  daniel greenfield shillman journal fellow free...  \n",
       "1  googl pinterest digg linkedin reddit stumbleup...  \n",
       "2  u s secretari state john f kerri said monday s...  \n",
       "3  kayde king kaydeek novemb the lesson tonight d...  \n",
       "4  it primari day new york front runner hillari c...  "
      ]
     },
     "execution_count": 27,
     "metadata": {},
     "output_type": "execute_result"
    }
   ],
   "source": [
    "train_data.head()"
   ]
  },
  {
   "cell_type": "code",
   "execution_count": 55,
   "metadata": {},
   "outputs": [
    {
     "data": {
      "text/plain": [
       "(3966, 100118)"
      ]
     },
     "execution_count": 55,
     "metadata": {},
     "output_type": "execute_result"
    }
   ],
   "source": [
    "vectorizer = TfidfVectorizer(min_df= 3, stop_words=\"english\", sublinear_tf=True, norm='l2', ngram_range=(1, 2))\n",
    "final_features = vectorizer.fit_transform(train_data['cleaned']).toarray()\n",
    "final_features.shape"
   ]
  },
  {
   "cell_type": "code",
   "execution_count": 58,
   "metadata": {},
   "outputs": [
    {
     "name": "stderr",
     "output_type": "stream",
     "text": [
      "/Users/rafaelhernandez/anaconda3/lib/python3.7/site-packages/sklearn/ensemble/forest.py:246: FutureWarning: The default value of n_estimators will change from 10 in version 0.20 to 100 in 0.22.\n",
      "  \"10 in version 0.20 to 100 in 0.22.\", FutureWarning)\n"
     ]
    },
    {
     "name": "stdout",
     "output_type": "stream",
     "text": [
      "              precision    recall  f1-score   support\n",
      "\n",
      "        FAKE       0.84      0.90      0.86       477\n",
      "        REAL       0.90      0.84      0.87       515\n",
      "\n",
      "   micro avg       0.86      0.86      0.86       992\n",
      "   macro avg       0.87      0.87      0.86       992\n",
      "weighted avg       0.87      0.86      0.86       992\n",
      "\n",
      "[[427  50]\n",
      " [ 84 431]]\n",
      "Accuracy: 0.8649193548387096\n"
     ]
    }
   ],
   "source": [
    "#first we split our dataset into testing and training set:\n",
    "# this block is to split the dataset into training and testing set \n",
    "X = train_data['cleaned']\n",
    "Y = train_data['label']\n",
    "X_train, X_test, y_train, y_test = train_test_split(X, Y, test_size=0.25)\n",
    "# instead of doing these steps one at a time, we can use a pipeline to complete them all at once\n",
    "pipeline = Pipeline([('vect', vectorizer),\n",
    "                     ('chi',  SelectKBest(chi2, k=1200)),\n",
    "                     ('clf', RandomForestClassifier())])\n",
    "# fitting our model and save it in a pickle for later use\n",
    "model = pipeline.fit(X_train, y_train)\n",
    "# with open('RandomForest.pickle', 'wb') as f:\n",
    "#     pickle.dump(model, f)\n",
    "ytest = np.array(y_test)\n",
    "clf_Score = pipeline.score(X_test,y_test)\n",
    "# confusion matrix and classification report(precision, recall, F1-score)\n",
    "print(classification_report(ytest, model.predict(X_test)))\n",
    "print(confusion_matrix(ytest, model.predict(X_test)))\n",
    "print('Accuracy:', clf_Score)"
   ]
  },
  {
   "cell_type": "code",
   "execution_count": null,
   "metadata": {},
   "outputs": [],
   "source": []
  }
 ],
 "metadata": {
  "kernelspec": {
   "display_name": "Python 3",
   "language": "python",
   "name": "python3"
  },
  "language_info": {
   "codemirror_mode": {
    "name": "ipython",
    "version": 3
   },
   "file_extension": ".py",
   "mimetype": "text/x-python",
   "name": "python",
   "nbconvert_exporter": "python",
   "pygments_lexer": "ipython3",
   "version": "3.7.1"
  }
 },
 "nbformat": 4,
 "nbformat_minor": 2
}
